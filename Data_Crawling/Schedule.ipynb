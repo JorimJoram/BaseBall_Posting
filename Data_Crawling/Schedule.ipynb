{
 "cells": [
  {
   "cell_type": "markdown",
   "source": [
    "## 금주 목표\n",
    "### 이번 시즌 팀 순위 시각화"
   ],
   "metadata": {
    "collapsed": false,
    "pycharm": {
     "name": "#%% md\n"
    },
    "id": "GVxg5EpDJots"
   }
  },
  {
   "cell_type": "code",
   "execution_count": 1,
   "outputs": [
    {
     "ename": "FileExistsError",
     "evalue": "[Errno 17] File exists: 'date'",
     "output_type": "error",
     "traceback": [
      "\u001B[0;31m---------------------------------------------------------------------------\u001B[0m",
      "\u001B[0;31mFileExistsError\u001B[0m                           Traceback (most recent call last)",
      "Cell \u001B[0;32mIn [1], line 7\u001B[0m\n\u001B[1;32m      4\u001B[0m \u001B[38;5;28;01mimport\u001B[39;00m \u001B[38;5;21;01mnatsort\u001B[39;00m\n\u001B[1;32m      5\u001B[0m \u001B[38;5;66;03m#from IPython.core.display_functions import display\u001B[39;00m\n\u001B[0;32m----> 7\u001B[0m os\u001B[38;5;241m.\u001B[39mmakedirs(\u001B[38;5;124m\"\u001B[39m\u001B[38;5;124mdate\u001B[39m\u001B[38;5;124m\"\u001B[39m)\n",
      "File \u001B[0;32m/Library/Frameworks/Python.framework/Versions/3.10/lib/python3.10/os.py:225\u001B[0m, in \u001B[0;36mmakedirs\u001B[0;34m(name, mode, exist_ok)\u001B[0m\n\u001B[1;32m    223\u001B[0m         \u001B[38;5;28;01mreturn\u001B[39;00m\n\u001B[1;32m    224\u001B[0m \u001B[38;5;28;01mtry\u001B[39;00m:\n\u001B[0;32m--> 225\u001B[0m     \u001B[43mmkdir\u001B[49m\u001B[43m(\u001B[49m\u001B[43mname\u001B[49m\u001B[43m,\u001B[49m\u001B[43m \u001B[49m\u001B[43mmode\u001B[49m\u001B[43m)\u001B[49m\n\u001B[1;32m    226\u001B[0m \u001B[38;5;28;01mexcept\u001B[39;00m \u001B[38;5;167;01mOSError\u001B[39;00m:\n\u001B[1;32m    227\u001B[0m     \u001B[38;5;66;03m# Cannot rely on checking for EEXIST, since the operating system\u001B[39;00m\n\u001B[1;32m    228\u001B[0m     \u001B[38;5;66;03m# could give priority to other errors like EACCES or EROFS\u001B[39;00m\n\u001B[1;32m    229\u001B[0m     \u001B[38;5;28;01mif\u001B[39;00m \u001B[38;5;129;01mnot\u001B[39;00m exist_ok \u001B[38;5;129;01mor\u001B[39;00m \u001B[38;5;129;01mnot\u001B[39;00m path\u001B[38;5;241m.\u001B[39misdir(name):\n",
      "\u001B[0;31mFileExistsError\u001B[0m: [Errno 17] File exists: 'date'"
     ]
    }
   ],
   "source": [
    "import natsort as natsort\n",
    "import pandas as pd\n",
    "import os\n",
    "import natsort\n",
    "#from IPython.core.display_functions import display\n"
   ],
   "metadata": {
    "collapsed": false,
    "pycharm": {
     "name": "#%%\n"
    }
   }
  },
  {
   "cell_type": "code",
   "execution_count": 45,
   "outputs": [
    {
     "name": "stdout",
     "output_type": "stream",
     "text": [
      "4 완료\n",
      "5 완료\n",
      "6 완료\n",
      "7 완료\n",
      "8 완료\n",
      "9 완료\n"
     ]
    }
   ],
   "source": [
    "for month in range(4, 10):\n",
    "    url = \"https://sports.news.naver.com/kbaseball/schedule/index?&month={}&year=2022&teamCode=\".format(month)\n",
    "    df = pd.read_html(url)\n",
    "    for i in range(1, len(df)-1): #제일 위에 column 목차가 df단위로 떨어져서 삭제하는걸로 함, 그리고 마지막 df는 <맨위로>키 정보가 있는 테이블이라 범위에 넣지 않음.\n",
    "        if df[i][2][0] == \"프로야구 경기가 없습니다.\":\n",
    "            continue\n",
    "        remain= df[i].loc[:, [0, 1, 2, 4, 5]]\n",
    "        remain.rename(columns={0:\"일자\", 1:\"시각\", 2:\"경기결과\", 4:\"중계사\", 5:\"구장\"} , inplace=True)\n",
    "        text = remain[\"일자\"][0].split()[0]\n",
    "        remain[\"일자\"] = text\n",
    "        remain.to_csv(\"./date/\"+text+'.csv', header=True, encoding='UTF-8', index=False)\n",
    "    print(month, \"완료\")"
   ],
   "metadata": {
    "collapsed": false,
    "pycharm": {
     "name": "#%%\n"
    }
   }
  },
  {
   "cell_type": "markdown",
   "source": [
    "## DataFrame 에서 얻어낸 것\n",
    "1. 네이버는 https 프로토콜을 사용하므로 ssl때문에 certification 관련 추가 작업이 필요했음\n",
    "1-1. 따라서 terminal에 `pip install --upgrade certifi`를 추가적으로 작성함\n",
    "1-2. 그리고 Application > python 3.10 > install certifi 진행\n",
    "2. 네이버의 경우, 일정별로 깔끔하게 떨어져서 나옴\n",
    "3. 다만, 데이터프레임의 개수가 많이 나타남\n",
    "\n",
    "## 게임차 계산방법\n",
    "```\n",
    "팀 게임 승점 = (전체경기수 - 진행된 경기수)*0.5 + 승리 수 + 무승부*0.5\n",
    "1위 승점 - 현재 팀 승점\n",
    "```\n",
    "- 패배를 왜 뺐나 했는데, 정말로 게임차 계산할 때 패배는 들어가지 않음.\n",
    "- 실제로도 승리랑 무승부 가지고 판단함"
   ],
   "metadata": {
    "collapsed": false,
    "pycharm": {
     "name": "#%% md\n"
    }
   }
  },
  {
   "cell_type": "code",
   "execution_count": 77,
   "outputs": [
    {
     "data": {
      "text/plain": "     경기수  승리  무승부  패배\nLG     0   0    0   0\nKIA    0   0    0   0\nNC     0   0    0   0\nSSG    0   0    0   0\n한화     0   0    0   0\n두산     0   0    0   0\n키움     0   0    0   0\n삼성     0   0    0   0\nKT     0   0    0   0\n롯데     0   0    0   0",
      "text/html": "<div>\n<style scoped>\n    .dataframe tbody tr th:only-of-type {\n        vertical-align: middle;\n    }\n\n    .dataframe tbody tr th {\n        vertical-align: top;\n    }\n\n    .dataframe thead th {\n        text-align: right;\n    }\n</style>\n<table border=\"1\" class=\"dataframe\">\n  <thead>\n    <tr style=\"text-align: right;\">\n      <th></th>\n      <th>경기수</th>\n      <th>승리</th>\n      <th>무승부</th>\n      <th>패배</th>\n    </tr>\n  </thead>\n  <tbody>\n    <tr>\n      <th>LG</th>\n      <td>0</td>\n      <td>0</td>\n      <td>0</td>\n      <td>0</td>\n    </tr>\n    <tr>\n      <th>KIA</th>\n      <td>0</td>\n      <td>0</td>\n      <td>0</td>\n      <td>0</td>\n    </tr>\n    <tr>\n      <th>NC</th>\n      <td>0</td>\n      <td>0</td>\n      <td>0</td>\n      <td>0</td>\n    </tr>\n    <tr>\n      <th>SSG</th>\n      <td>0</td>\n      <td>0</td>\n      <td>0</td>\n      <td>0</td>\n    </tr>\n    <tr>\n      <th>한화</th>\n      <td>0</td>\n      <td>0</td>\n      <td>0</td>\n      <td>0</td>\n    </tr>\n    <tr>\n      <th>두산</th>\n      <td>0</td>\n      <td>0</td>\n      <td>0</td>\n      <td>0</td>\n    </tr>\n    <tr>\n      <th>키움</th>\n      <td>0</td>\n      <td>0</td>\n      <td>0</td>\n      <td>0</td>\n    </tr>\n    <tr>\n      <th>삼성</th>\n      <td>0</td>\n      <td>0</td>\n      <td>0</td>\n      <td>0</td>\n    </tr>\n    <tr>\n      <th>KT</th>\n      <td>0</td>\n      <td>0</td>\n      <td>0</td>\n      <td>0</td>\n    </tr>\n    <tr>\n      <th>롯데</th>\n      <td>0</td>\n      <td>0</td>\n      <td>0</td>\n      <td>0</td>\n    </tr>\n  </tbody>\n</table>\n</div>"
     },
     "execution_count": 77,
     "metadata": {},
     "output_type": "execute_result"
    }
   ],
   "source": [
    "start_data = {\"LG\":[0,0,0,0],\n",
    "              \"KIA\":[0,0,0,0],\n",
    "              \"NC\":[0,0,0,0],\n",
    "              \"SSG\":[0,0,0,0],\n",
    "              \"한화\":[0,0,0,0],\n",
    "              \"두산\":[0,0,0,0],\n",
    "              \"키움\":[0,0,0,0],\n",
    "              \"삼성\":[0,0,0,0],\n",
    "              \"KT\":[0,0,0,0],\n",
    "              \"롯데\":[0,0,0,0]}\n",
    "KBO_team = pd.DataFrame(start_data, index= [\"경기수\", \"승리\", \"무승부\",\"패배\"])\n",
    "KBO_team = KBO_team.T\n",
    "KBO_team"
   ],
   "metadata": {
    "collapsed": false,
    "pycharm": {
     "name": "#%%\n"
    }
   }
  },
  {
   "cell_type": "code",
   "execution_count": 78,
   "outputs": [
    {
     "data": {
      "text/plain": "['4.2.csv',\n '4.3.csv',\n '4.5.csv',\n '4.6.csv',\n '4.7.csv',\n '4.8.csv',\n '4.9.csv',\n '4.10.csv',\n '4.12.csv',\n '4.13.csv',\n '4.14.csv',\n '4.15.csv',\n '4.16.csv',\n '4.17.csv',\n '4.19.csv',\n '4.20.csv',\n '4.21.csv',\n '4.22.csv',\n '4.23.csv',\n '4.24.csv',\n '4.26.csv',\n '4.27.csv',\n '4.28.csv',\n '4.29.csv',\n '4.30.csv',\n '5.1.csv',\n '5.3.csv',\n '5.4.csv',\n '5.5.csv',\n '5.6.csv',\n '5.7.csv',\n '5.8.csv',\n '5.10.csv',\n '5.11.csv',\n '5.12.csv',\n '5.13.csv',\n '5.14.csv',\n '5.15.csv',\n '5.17.csv',\n '5.18.csv',\n '5.19.csv',\n '5.20.csv',\n '5.21.csv',\n '5.22.csv',\n '5.24.csv',\n '5.25.csv',\n '5.26.csv',\n '5.27.csv',\n '5.28.csv',\n '5.29.csv',\n '5.31.csv',\n '6.1.csv',\n '6.2.csv',\n '6.3.csv',\n '6.4.csv',\n '6.5.csv',\n '6.7.csv',\n '6.8.csv',\n '6.9.csv',\n '6.10.csv',\n '6.11.csv',\n '6.12.csv',\n '6.14.csv',\n '6.15.csv',\n '6.16.csv',\n '6.17.csv',\n '6.18.csv',\n '6.19.csv',\n '6.21.csv',\n '6.22.csv',\n '6.23.csv',\n '6.24.csv',\n '6.25.csv',\n '6.26.csv',\n '6.28.csv',\n '6.29.csv',\n '6.30.csv',\n '7.1.csv',\n '7.2.csv',\n '7.3.csv',\n '7.5.csv',\n '7.6.csv',\n '7.7.csv',\n '7.8.csv',\n '7.9.csv',\n '7.10.csv',\n '7.12.csv',\n '7.13.csv',\n '7.14.csv',\n '7.16.csv',\n '7.22.csv',\n '7.23.csv',\n '7.24.csv',\n '7.26.csv',\n '7.27.csv',\n '7.28.csv',\n '7.29.csv',\n '7.30.csv',\n '7.31.csv',\n '8.2.csv',\n '8.3.csv',\n '8.4.csv',\n '8.5.csv',\n '8.6.csv',\n '8.7.csv',\n '8.10.csv',\n '8.11.csv',\n '8.12.csv',\n '8.13.csv',\n '8.14.csv',\n '8.16.csv',\n '8.17.csv',\n '8.18.csv',\n '8.19.csv',\n '8.20.csv',\n '8.21.csv',\n '8.23.csv',\n '8.24.csv',\n '8.25.csv',\n '8.26.csv',\n '8.27.csv',\n '8.28.csv',\n '8.30.csv',\n '8.31.csv',\n '9.1.csv',\n '9.2.csv',\n '9.3.csv',\n '9.4.csv',\n '9.6.csv',\n '9.7.csv',\n '9.8.csv',\n '9.9.csv',\n '9.10.csv',\n '9.11.csv',\n '9.13.csv',\n '9.14.csv',\n '9.15.csv',\n '9.16.csv',\n '9.17.csv',\n '9.18.csv',\n '9.20.csv',\n '9.21.csv',\n '9.22.csv',\n '9.23.csv',\n '9.24.csv',\n '9.25.csv',\n '9.27.csv',\n '9.28.csv',\n '9.29.csv',\n '9.30.csv',\n '.DS_Store']"
     },
     "execution_count": 78,
     "metadata": {},
     "output_type": "execute_result"
    }
   ],
   "source": [
    "order_list = os.listdir(\"./date\")\n",
    "sorted_list = natsort.natsorted(order_list)\n",
    "sorted_list"
   ],
   "metadata": {
    "collapsed": false,
    "pycharm": {
     "name": "#%%\n"
    }
   }
  },
  {
   "cell_type": "code",
   "execution_count": 79,
   "outputs": [],
   "source": [
    "for file in sorted_list:\n",
    "    data = pd.read_csv(\"./date/\" + file)\n",
    "    for i in data.index:\n",
    "        line = data.loc[i, :]\n",
    "\n",
    "        if len(line[2].split(\":\")) == 1:\n",
    "            continue\n",
    "\n",
    "        away, home = line[2].split(\":\")\n",
    "        home = home.split()\n",
    "        away = away.split()\n",
    "        h_score, h_team = home\n",
    "        a_team, a_score = away\n",
    "        h_score = int(h_score)\n",
    "        a_score = int(a_score)\n",
    "\n",
    "        if h_team == \"나눔\" or a_team == \"나눔\":\n",
    "            continue #올스타전 제외\n",
    "\n",
    "        #리팩토링은 항상 모두 완료하고나서 할 것\n",
    "        if h_score > a_score: #홈팀 승리\n",
    "            KBO_team.loc[h_team, [\"승리\"]] +=1\n",
    "            KBO_team.loc[a_team, [\"패배\"]] +=1\n",
    "        elif h_score < a_score:\n",
    "            KBO_team.loc[a_team, [\"승리\"]] +=1\n",
    "            KBO_team.loc[h_team, [\"패배\"]] +=1\n",
    "        else:\n",
    "            KBO_team.loc[h_team, [\"무승부\"]] +=1\n",
    "            KBO_team.loc[a_team, [\"무승부\"]] +=1\n",
    "\n",
    "        #경기수 구하기\n",
    "        KBO_team[\"경기수\"] = KBO_team[\"승리\"] + KBO_team[\"패배\"] + KBO_team[\"무승부\"]\n",
    "\n",
    "        #게임차 구하기\n",
    "        KBO_team[\"승점\"] = (144-KBO_team[\"경기수\"])*0.5 + KBO_team[\"승리\"] + KBO_team[\"무승부\"]*0.5\n",
    "        KBO_team.sort_values(by=\"승점\", inplace=True, ascending=False)\n",
    "        top = KBO_team[\"승점\"][0]\n",
    "        KBO_team[\"게임차\"] = top - KBO_team[\"승점\"]\n",
    "        KBO_team.sort_values(by=\"승점\", ascending=False, inplace=True)\n",
    "\n",
    "        KBO_team.to_csv(\"./date_rank/\"+file, header=True, encoding=\"UTF-8\", index=True)\n",
    "#원인찾았다. 이거 숫자가 문자열로 되어있어서 그랬음"
   ],
   "metadata": {
    "collapsed": false,
    "pycharm": {
     "name": "#%%\n"
    }
   }
  },
  {
   "cell_type": "code",
   "execution_count": 80,
   "outputs": [
    {
     "data": {
      "text/plain": "     경기수  승리  무승부  패배    승점   게임차\nSSG  137  86    4  47  91.5   0.0\nLG   133  82    2  49  88.5   3.0\n키움   140  78    3  59  81.5  10.0\nKT   136  74    2  60  79.0  12.5\nKIA  136  65    1  70  69.5  22.0\nNC   134  60    4  70  67.0  24.5\n롯데   138  61    4  73  66.0  25.5\n삼성   135  60    2  73  65.5  26.0\n두산   134  57    2  75  63.0  28.5\n한화   137  44    2  91  48.5  43.0",
      "text/html": "<div>\n<style scoped>\n    .dataframe tbody tr th:only-of-type {\n        vertical-align: middle;\n    }\n\n    .dataframe tbody tr th {\n        vertical-align: top;\n    }\n\n    .dataframe thead th {\n        text-align: right;\n    }\n</style>\n<table border=\"1\" class=\"dataframe\">\n  <thead>\n    <tr style=\"text-align: right;\">\n      <th></th>\n      <th>경기수</th>\n      <th>승리</th>\n      <th>무승부</th>\n      <th>패배</th>\n      <th>승점</th>\n      <th>게임차</th>\n    </tr>\n  </thead>\n  <tbody>\n    <tr>\n      <th>SSG</th>\n      <td>137</td>\n      <td>86</td>\n      <td>4</td>\n      <td>47</td>\n      <td>91.5</td>\n      <td>0.0</td>\n    </tr>\n    <tr>\n      <th>LG</th>\n      <td>133</td>\n      <td>82</td>\n      <td>2</td>\n      <td>49</td>\n      <td>88.5</td>\n      <td>3.0</td>\n    </tr>\n    <tr>\n      <th>키움</th>\n      <td>140</td>\n      <td>78</td>\n      <td>3</td>\n      <td>59</td>\n      <td>81.5</td>\n      <td>10.0</td>\n    </tr>\n    <tr>\n      <th>KT</th>\n      <td>136</td>\n      <td>74</td>\n      <td>2</td>\n      <td>60</td>\n      <td>79.0</td>\n      <td>12.5</td>\n    </tr>\n    <tr>\n      <th>KIA</th>\n      <td>136</td>\n      <td>65</td>\n      <td>1</td>\n      <td>70</td>\n      <td>69.5</td>\n      <td>22.0</td>\n    </tr>\n    <tr>\n      <th>NC</th>\n      <td>134</td>\n      <td>60</td>\n      <td>4</td>\n      <td>70</td>\n      <td>67.0</td>\n      <td>24.5</td>\n    </tr>\n    <tr>\n      <th>롯데</th>\n      <td>138</td>\n      <td>61</td>\n      <td>4</td>\n      <td>73</td>\n      <td>66.0</td>\n      <td>25.5</td>\n    </tr>\n    <tr>\n      <th>삼성</th>\n      <td>135</td>\n      <td>60</td>\n      <td>2</td>\n      <td>73</td>\n      <td>65.5</td>\n      <td>26.0</td>\n    </tr>\n    <tr>\n      <th>두산</th>\n      <td>134</td>\n      <td>57</td>\n      <td>2</td>\n      <td>75</td>\n      <td>63.0</td>\n      <td>28.5</td>\n    </tr>\n    <tr>\n      <th>한화</th>\n      <td>137</td>\n      <td>44</td>\n      <td>2</td>\n      <td>91</td>\n      <td>48.5</td>\n      <td>43.0</td>\n    </tr>\n  </tbody>\n</table>\n</div>"
     },
     "execution_count": 80,
     "metadata": {},
     "output_type": "execute_result"
    }
   ],
   "source": [
    "KBO_team\n",
    "\n",
    "# 경기 수는 맞는데, 승리가 이상하게 집계됨\n",
    "# 원인은 아직 모르겠음"
   ],
   "metadata": {
    "collapsed": false,
    "pycharm": {
     "name": "#%%\n"
    }
   }
  },
  {
   "cell_type": "code",
   "execution_count": 18,
   "outputs": [
    {
     "name": "stdout",
     "output_type": "stream",
     "text": [
      "SSG: 40.5 LG: 37.0 dif: 3.5\n"
     ]
    }
   ],
   "source": [
    "SSG = KBO_team.loc[\"SSG\", :]\n",
    "LG = KBO_team.loc[\"LG\", :]\n",
    "\n",
    "win_SSG = ((144-SSG[\"경기수\"])*0.5) + SSG[\"승리\"] - SSG[\"패배\"] - (SSG[\"무승부\"]*0.5)\n",
    "win_SSG\n",
    "win_LG = ((144-LG[\"경기수\"])*0.5) + LG[\"승리\"] - LG[\"패배\"] - (LG[\"무승부\"]*0.5)\n",
    "print(\"SSG:\", win_SSG, \"LG:\", win_LG, \"dif:\",win_SSG-win_LG)"
   ],
   "metadata": {
    "collapsed": false,
    "pycharm": {
     "name": "#%%\n"
    }
   }
  },
  {
   "cell_type": "code",
   "execution_count": 44,
   "outputs": [
    {
     "data": {
      "text/plain": "     경기수  승리  무승부  패배    승점   게임차\nSSG  137  86    4  47  91.5   0.0\nLG   132  81    2  49  88.0   3.5\n키움   139  78    2  59  81.5  10.0\nKT   135  74    2  59  79.5  12.0\nKIA  136  65    1  70  69.5  22.0\nNC   133  60    3  70  67.0  24.5\n롯데   138  61    4  73  66.0  25.5\n삼성   135  60    2  73  65.5  26.0\n두산   133  56    2  75  62.5  29.0\n한화   136  44    2  90  49.0  42.5",
      "text/html": "<div>\n<style scoped>\n    .dataframe tbody tr th:only-of-type {\n        vertical-align: middle;\n    }\n\n    .dataframe tbody tr th {\n        vertical-align: top;\n    }\n\n    .dataframe thead th {\n        text-align: right;\n    }\n</style>\n<table border=\"1\" class=\"dataframe\">\n  <thead>\n    <tr style=\"text-align: right;\">\n      <th></th>\n      <th>경기수</th>\n      <th>승리</th>\n      <th>무승부</th>\n      <th>패배</th>\n      <th>승점</th>\n      <th>게임차</th>\n    </tr>\n  </thead>\n  <tbody>\n    <tr>\n      <th>SSG</th>\n      <td>137</td>\n      <td>86</td>\n      <td>4</td>\n      <td>47</td>\n      <td>91.5</td>\n      <td>0.0</td>\n    </tr>\n    <tr>\n      <th>LG</th>\n      <td>132</td>\n      <td>81</td>\n      <td>2</td>\n      <td>49</td>\n      <td>88.0</td>\n      <td>3.5</td>\n    </tr>\n    <tr>\n      <th>키움</th>\n      <td>139</td>\n      <td>78</td>\n      <td>2</td>\n      <td>59</td>\n      <td>81.5</td>\n      <td>10.0</td>\n    </tr>\n    <tr>\n      <th>KT</th>\n      <td>135</td>\n      <td>74</td>\n      <td>2</td>\n      <td>59</td>\n      <td>79.5</td>\n      <td>12.0</td>\n    </tr>\n    <tr>\n      <th>KIA</th>\n      <td>136</td>\n      <td>65</td>\n      <td>1</td>\n      <td>70</td>\n      <td>69.5</td>\n      <td>22.0</td>\n    </tr>\n    <tr>\n      <th>NC</th>\n      <td>133</td>\n      <td>60</td>\n      <td>3</td>\n      <td>70</td>\n      <td>67.0</td>\n      <td>24.5</td>\n    </tr>\n    <tr>\n      <th>롯데</th>\n      <td>138</td>\n      <td>61</td>\n      <td>4</td>\n      <td>73</td>\n      <td>66.0</td>\n      <td>25.5</td>\n    </tr>\n    <tr>\n      <th>삼성</th>\n      <td>135</td>\n      <td>60</td>\n      <td>2</td>\n      <td>73</td>\n      <td>65.5</td>\n      <td>26.0</td>\n    </tr>\n    <tr>\n      <th>두산</th>\n      <td>133</td>\n      <td>56</td>\n      <td>2</td>\n      <td>75</td>\n      <td>62.5</td>\n      <td>29.0</td>\n    </tr>\n    <tr>\n      <th>한화</th>\n      <td>136</td>\n      <td>44</td>\n      <td>2</td>\n      <td>90</td>\n      <td>49.0</td>\n      <td>42.5</td>\n    </tr>\n  </tbody>\n</table>\n</div>"
     },
     "execution_count": 44,
     "metadata": {},
     "output_type": "execute_result"
    }
   ],
   "source": [
    "#승점 구하기\n",
    "test_df = KBO_team.copy()\n",
    "test_df[\"승점\"] =  test_df[\"승리\"] + test_df[\"무승부\"]*0.5 + ((144-test_df[\"경기수\"])*0.5)\n",
    "test_df.sort_values(by=\"승점\", inplace=True, ascending=False)\n",
    "top = test_df[\"승점\"][0]\n",
    "test_df[\"게임차\"] = abs(test_df[\"승점\"]-top)\n",
    "test_df"
   ],
   "metadata": {
    "collapsed": false,
    "pycharm": {
     "name": "#%%\n"
    }
   }
  },
  {
   "cell_type": "code",
   "execution_count": null,
   "outputs": [],
   "source": [],
   "metadata": {
    "collapsed": false,
    "pycharm": {
     "name": "#%%\n"
    }
   }
  }
 ],
 "metadata": {
  "kernelspec": {
   "display_name": "Python 3",
   "language": "python",
   "name": "python3"
  },
  "language_info": {
   "codemirror_mode": {
    "name": "ipython",
    "version": 2
   },
   "file_extension": ".py",
   "mimetype": "text/x-python",
   "name": "python",
   "nbconvert_exporter": "python",
   "pygments_lexer": "ipython2",
   "version": "2.7.6"
  },
  "colab": {
   "provenance": []
  }
 },
 "nbformat": 4,
 "nbformat_minor": 0
}