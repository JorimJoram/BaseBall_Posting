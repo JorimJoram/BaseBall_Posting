{
 "cells": [
  {
   "cell_type": "markdown",
   "source": [
    "## 금주 목표\n",
    "### 이번 시즌 팀 순위 시각화"
   ],
   "metadata": {
    "collapsed": false,
    "pycharm": {
     "name": "#%% md\n"
    },
    "id": "GVxg5EpDJots"
   }
  },
  {
   "cell_type": "code",
   "execution_count": 3,
   "outputs": [],
   "source": [
    "import natsort as natsort\n",
    "import pandas as pd\n",
    "import os\n",
    "import natsort\n",
    "#from IPython.core.display_functions import display\n"
   ],
   "metadata": {
    "collapsed": false,
    "pycharm": {
     "name": "#%%\n"
    }
   }
  },
  {
   "cell_type": "code",
   "execution_count": 2,
   "outputs": [
    {
     "name": "stdout",
     "output_type": "stream",
     "text": [
      "4 완료\n",
      "5 완료\n",
      "6 완료\n",
      "7 완료\n",
      "8 완료\n",
      "9 완료\n"
     ]
    }
   ],
   "source": [
    "for month in range(4, 10):\n",
    "    url = \"https://sports.news.naver.com/kbaseball/schedule/index?&month={}&year=2022&teamCode=\".format(month)\n",
    "    df = pd.read_html(url)\n",
    "    for i in range(1, len(df)-1): #제일 위에 column 목차가 df단위로 떨어져서 삭제하는걸로 함, 그리고 마지막 df는 <맨위로>키 정보가 있는 테이블이라 범위에 넣지 않음.\n",
    "        if df[i][2][0] == \"프로야구 경기가 없습니다.\":\n",
    "            continue\n",
    "        remain= df[i].loc[:, [0, 1, 2, 4, 5]]\n",
    "        remain.rename(columns={0:\"일자\", 1:\"시각\", 2:\"경기결과\", 4:\"중계사\", 5:\"구장\"} , inplace=True)\n",
    "        text = remain[\"일자\"][0].split()[0]\n",
    "        remain[\"일자\"] = text\n",
    "        remain.to_csv(\"./date/\"+text+'.csv', header=True, encoding='UTF-8', index=False)\n",
    "    print(month, \"완료\")"
   ],
   "metadata": {
    "collapsed": false,
    "pycharm": {
     "name": "#%%\n"
    }
   }
  },
  {
   "cell_type": "markdown",
   "source": [
    "## DataFrame 에서 얻어낸 것\n",
    "1. 네이버는 https 프로토콜을 사용하므로 ssl때문에 certification 관련 추가 작업이 필요했음\n",
    "1-1. 따라서 terminal에 `pip install --upgrade certifi`를 추가적으로 작성함\n",
    "1-2. 그리고 Application > python 3.10 > install certifi 진행\n",
    "2. 네이버의 경우, 일정별로 깔끔하게 떨어져서 나옴\n",
    "3. 다만, 데이터프레임의 개수가 많이 나타남\n",
    "\n",
    "## 게임차 계산방법\n",
    "```\n",
    "팀 게임 승점 = (전체경기수 - 진행된 경기수)*0.5 + 승리 수 + 무승부*0.5\n",
    "1위 승점 - 현재 팀 승점\n",
    "```\n",
    "- 패배를 왜 뺐나 했는데, 정말로 게임차 계산할 때 패배는 들어가지 않음.\n",
    "- 실제로도 승리랑 무승부 가지고 판단함"
   ],
   "metadata": {
    "collapsed": false,
    "pycharm": {
     "name": "#%% md\n"
    }
   }
  },
  {
   "cell_type": "code",
   "execution_count": 4,
   "outputs": [
    {
     "data": {
      "text/plain": "     경기수  승리  무승부  패배\nLG     0   0    0   0\nKIA    0   0    0   0\nNC     0   0    0   0\nSSG    0   0    0   0\n한화     0   0    0   0\n두산     0   0    0   0\n키움     0   0    0   0\n삼성     0   0    0   0\nKT     0   0    0   0\n롯데     0   0    0   0",
      "text/html": "<div>\n<style scoped>\n    .dataframe tbody tr th:only-of-type {\n        vertical-align: middle;\n    }\n\n    .dataframe tbody tr th {\n        vertical-align: top;\n    }\n\n    .dataframe thead th {\n        text-align: right;\n    }\n</style>\n<table border=\"1\" class=\"dataframe\">\n  <thead>\n    <tr style=\"text-align: right;\">\n      <th></th>\n      <th>경기수</th>\n      <th>승리</th>\n      <th>무승부</th>\n      <th>패배</th>\n    </tr>\n  </thead>\n  <tbody>\n    <tr>\n      <th>LG</th>\n      <td>0</td>\n      <td>0</td>\n      <td>0</td>\n      <td>0</td>\n    </tr>\n    <tr>\n      <th>KIA</th>\n      <td>0</td>\n      <td>0</td>\n      <td>0</td>\n      <td>0</td>\n    </tr>\n    <tr>\n      <th>NC</th>\n      <td>0</td>\n      <td>0</td>\n      <td>0</td>\n      <td>0</td>\n    </tr>\n    <tr>\n      <th>SSG</th>\n      <td>0</td>\n      <td>0</td>\n      <td>0</td>\n      <td>0</td>\n    </tr>\n    <tr>\n      <th>한화</th>\n      <td>0</td>\n      <td>0</td>\n      <td>0</td>\n      <td>0</td>\n    </tr>\n    <tr>\n      <th>두산</th>\n      <td>0</td>\n      <td>0</td>\n      <td>0</td>\n      <td>0</td>\n    </tr>\n    <tr>\n      <th>키움</th>\n      <td>0</td>\n      <td>0</td>\n      <td>0</td>\n      <td>0</td>\n    </tr>\n    <tr>\n      <th>삼성</th>\n      <td>0</td>\n      <td>0</td>\n      <td>0</td>\n      <td>0</td>\n    </tr>\n    <tr>\n      <th>KT</th>\n      <td>0</td>\n      <td>0</td>\n      <td>0</td>\n      <td>0</td>\n    </tr>\n    <tr>\n      <th>롯데</th>\n      <td>0</td>\n      <td>0</td>\n      <td>0</td>\n      <td>0</td>\n    </tr>\n  </tbody>\n</table>\n</div>"
     },
     "execution_count": 4,
     "metadata": {},
     "output_type": "execute_result"
    }
   ],
   "source": [
    "start_data = {\"LG\":[0,0,0,0],\n",
    "              \"KIA\":[0,0,0,0],\n",
    "              \"NC\":[0,0,0,0],\n",
    "              \"SSG\":[0,0,0,0],\n",
    "              \"한화\":[0,0,0,0],\n",
    "              \"두산\":[0,0,0,0],\n",
    "              \"키움\":[0,0,0,0],\n",
    "              \"삼성\":[0,0,0,0],\n",
    "              \"KT\":[0,0,0,0],\n",
    "              \"롯데\":[0,0,0,0]}\n",
    "KBO_team = pd.DataFrame(start_data, index= [\"경기수\", \"승리\", \"무승부\",\"패배\"])\n",
    "KBO_team = KBO_team.T\n",
    "KBO_team"
   ],
   "metadata": {
    "collapsed": false,
    "pycharm": {
     "name": "#%%\n"
    }
   }
  },
  {
   "cell_type": "code",
   "execution_count": 5,
   "outputs": [
    {
     "data": {
      "text/plain": "['4.2.csv',\n '4.3.csv',\n '4.5.csv',\n '4.6.csv',\n '4.7.csv',\n '4.8.csv',\n '4.9.csv',\n '4.10.csv',\n '4.12.csv',\n '4.13.csv',\n '4.14.csv',\n '4.15.csv',\n '4.16.csv',\n '4.17.csv',\n '4.19.csv',\n '4.20.csv',\n '4.21.csv',\n '4.22.csv',\n '4.23.csv',\n '4.24.csv',\n '4.26.csv',\n '4.27.csv',\n '4.28.csv',\n '4.29.csv',\n '4.30.csv',\n '5.1.csv',\n '5.3.csv',\n '5.4.csv',\n '5.5.csv',\n '5.6.csv',\n '5.7.csv',\n '5.8.csv',\n '5.10.csv',\n '5.11.csv',\n '5.12.csv',\n '5.13.csv',\n '5.14.csv',\n '5.15.csv',\n '5.17.csv',\n '5.18.csv',\n '5.19.csv',\n '5.20.csv',\n '5.21.csv',\n '5.22.csv',\n '5.24.csv',\n '5.25.csv',\n '5.26.csv',\n '5.27.csv',\n '5.28.csv',\n '5.29.csv',\n '5.31.csv',\n '6.1.csv',\n '6.2.csv',\n '6.3.csv',\n '6.4.csv',\n '6.5.csv',\n '6.7.csv',\n '6.8.csv',\n '6.9.csv',\n '6.10.csv',\n '6.11.csv',\n '6.12.csv',\n '6.14.csv',\n '6.15.csv',\n '6.16.csv',\n '6.17.csv',\n '6.18.csv',\n '6.19.csv',\n '6.21.csv',\n '6.22.csv',\n '6.23.csv',\n '6.24.csv',\n '6.25.csv',\n '6.26.csv',\n '6.28.csv',\n '6.29.csv',\n '6.30.csv',\n '7.1.csv',\n '7.2.csv',\n '7.3.csv',\n '7.5.csv',\n '7.6.csv',\n '7.7.csv',\n '7.8.csv',\n '7.9.csv',\n '7.10.csv',\n '7.12.csv',\n '7.13.csv',\n '7.14.csv',\n '7.16.csv',\n '7.22.csv',\n '7.23.csv',\n '7.24.csv',\n '7.26.csv',\n '7.27.csv',\n '7.28.csv',\n '7.29.csv',\n '7.30.csv',\n '7.31.csv',\n '8.2.csv',\n '8.3.csv',\n '8.4.csv',\n '8.5.csv',\n '8.6.csv',\n '8.7.csv',\n '8.10.csv',\n '8.11.csv',\n '8.12.csv',\n '8.13.csv',\n '8.14.csv',\n '8.16.csv',\n '8.17.csv',\n '8.18.csv',\n '8.19.csv',\n '8.20.csv',\n '8.21.csv',\n '8.23.csv',\n '8.24.csv',\n '8.25.csv',\n '8.26.csv',\n '8.27.csv',\n '8.28.csv',\n '8.30.csv',\n '8.31.csv',\n '9.1.csv',\n '9.2.csv',\n '9.3.csv',\n '9.4.csv',\n '9.6.csv',\n '9.7.csv',\n '9.8.csv',\n '9.9.csv',\n '9.10.csv',\n '9.11.csv',\n '9.13.csv',\n '9.14.csv',\n '9.15.csv',\n '9.16.csv',\n '9.17.csv',\n '9.18.csv',\n '9.20.csv',\n '9.21.csv',\n '9.22.csv',\n '9.23.csv',\n '9.24.csv',\n '9.25.csv',\n '9.27.csv',\n '9.28.csv',\n '9.29.csv',\n '9.30.csv',\n '.DS_Store']"
     },
     "execution_count": 5,
     "metadata": {},
     "output_type": "execute_result"
    }
   ],
   "source": [
    "order_list = os.listdir(\"./date\")\n",
    "sorted_list = natsort.natsorted(order_list)\n",
    "sorted_list"
   ],
   "metadata": {
    "collapsed": false,
    "pycharm": {
     "name": "#%%\n"
    }
   }
  },
  {
   "cell_type": "code",
   "execution_count": 6,
   "outputs": [],
   "source": [
    "for file in sorted_list:\n",
    "    data = pd.read_csv(\"./date/\" + file)\n",
    "    for i in data.index:\n",
    "        line = data.loc[i, :]\n",
    "\n",
    "        if len(line[2].split(\":\")) == 1:\n",
    "            continue\n",
    "\n",
    "        away, home = line[2].split(\":\")\n",
    "        home = home.split()\n",
    "        away = away.split()\n",
    "        h_score, h_team = home\n",
    "        a_team, a_score = away\n",
    "        h_score = int(h_score)\n",
    "        a_score = int(a_score)\n",
    "\n",
    "        if h_team == \"나눔\" or a_team == \"나눔\":\n",
    "            continue #올스타전 제외\n",
    "\n",
    "        #리팩토링은 항상 모두 완료하고나서 할 것\n",
    "        if h_score > a_score: #홈팀 승리\n",
    "            KBO_team.loc[h_team, [\"승리\"]] +=1\n",
    "            KBO_team.loc[a_team, [\"패배\"]] +=1\n",
    "        elif h_score < a_score:\n",
    "            KBO_team.loc[a_team, [\"승리\"]] +=1\n",
    "            KBO_team.loc[h_team, [\"패배\"]] +=1\n",
    "        else:\n",
    "            KBO_team.loc[h_team, [\"무승부\"]] +=1\n",
    "            KBO_team.loc[a_team, [\"무승부\"]] +=1\n",
    "\n",
    "        #경기수 구하기\n",
    "        KBO_team[\"경기수\"] = KBO_team[\"승리\"] + KBO_team[\"패배\"] + KBO_team[\"무승부\"]\n",
    "\n",
    "        #게임차 구하기\n",
    "        KBO_team[\"승점\"] = (144-KBO_team[\"경기수\"])*0.5 + KBO_team[\"승리\"] + KBO_team[\"무승부\"]*0.5\n",
    "        KBO_team.sort_values(by=\"승점\", inplace=True, ascending=False)\n",
    "        top = KBO_team[\"승점\"][0]\n",
    "        KBO_team[\"게임차\"] = top - KBO_team[\"승점\"]\n",
    "        KBO_team.sort_values(by=\"승점\", ascending=False, inplace=True)\n",
    "\n",
    "        KBO_team[\"순위\"] = [1,2,3,4,5,6,7,8,9,10]\n",
    "\n",
    "        KBO_team.to_csv(\"./date_rank/\"+file, header=True, encoding=\"UTF-8\", index=True)\n",
    "#원인찾았다. 이거 숫자가 문자열로 되어있어서 그랬음"
   ],
   "metadata": {
    "collapsed": false,
    "pycharm": {
     "name": "#%%\n"
    }
   }
  },
  {
   "cell_type": "code",
   "execution_count": 7,
   "outputs": [
    {
     "data": {
      "text/plain": "     경기수  승리  무승부  패배    승점   게임차  순위\nSSG  137  86    4  47  91.5   0.0   1\nLG   133  82    2  49  88.5   3.0   2\n키움   140  78    2  60  81.0  10.5   3\nKT   136  75    2  59  80.0  11.5   4\nKIA  136  65    1  70  69.5  22.0   5\nNC   134  61    3  70  67.5  24.0   6\n롯데   138  61    4  73  66.0  25.5   7\n삼성   135  60    2  73  65.5  26.0   8\n두산   134  56    2  76  62.0  29.5   9\n한화   137  44    2  91  48.5  43.0  10",
      "text/html": "<div>\n<style scoped>\n    .dataframe tbody tr th:only-of-type {\n        vertical-align: middle;\n    }\n\n    .dataframe tbody tr th {\n        vertical-align: top;\n    }\n\n    .dataframe thead th {\n        text-align: right;\n    }\n</style>\n<table border=\"1\" class=\"dataframe\">\n  <thead>\n    <tr style=\"text-align: right;\">\n      <th></th>\n      <th>경기수</th>\n      <th>승리</th>\n      <th>무승부</th>\n      <th>패배</th>\n      <th>승점</th>\n      <th>게임차</th>\n      <th>순위</th>\n    </tr>\n  </thead>\n  <tbody>\n    <tr>\n      <th>SSG</th>\n      <td>137</td>\n      <td>86</td>\n      <td>4</td>\n      <td>47</td>\n      <td>91.5</td>\n      <td>0.0</td>\n      <td>1</td>\n    </tr>\n    <tr>\n      <th>LG</th>\n      <td>133</td>\n      <td>82</td>\n      <td>2</td>\n      <td>49</td>\n      <td>88.5</td>\n      <td>3.0</td>\n      <td>2</td>\n    </tr>\n    <tr>\n      <th>키움</th>\n      <td>140</td>\n      <td>78</td>\n      <td>2</td>\n      <td>60</td>\n      <td>81.0</td>\n      <td>10.5</td>\n      <td>3</td>\n    </tr>\n    <tr>\n      <th>KT</th>\n      <td>136</td>\n      <td>75</td>\n      <td>2</td>\n      <td>59</td>\n      <td>80.0</td>\n      <td>11.5</td>\n      <td>4</td>\n    </tr>\n    <tr>\n      <th>KIA</th>\n      <td>136</td>\n      <td>65</td>\n      <td>1</td>\n      <td>70</td>\n      <td>69.5</td>\n      <td>22.0</td>\n      <td>5</td>\n    </tr>\n    <tr>\n      <th>NC</th>\n      <td>134</td>\n      <td>61</td>\n      <td>3</td>\n      <td>70</td>\n      <td>67.5</td>\n      <td>24.0</td>\n      <td>6</td>\n    </tr>\n    <tr>\n      <th>롯데</th>\n      <td>138</td>\n      <td>61</td>\n      <td>4</td>\n      <td>73</td>\n      <td>66.0</td>\n      <td>25.5</td>\n      <td>7</td>\n    </tr>\n    <tr>\n      <th>삼성</th>\n      <td>135</td>\n      <td>60</td>\n      <td>2</td>\n      <td>73</td>\n      <td>65.5</td>\n      <td>26.0</td>\n      <td>8</td>\n    </tr>\n    <tr>\n      <th>두산</th>\n      <td>134</td>\n      <td>56</td>\n      <td>2</td>\n      <td>76</td>\n      <td>62.0</td>\n      <td>29.5</td>\n      <td>9</td>\n    </tr>\n    <tr>\n      <th>한화</th>\n      <td>137</td>\n      <td>44</td>\n      <td>2</td>\n      <td>91</td>\n      <td>48.5</td>\n      <td>43.0</td>\n      <td>10</td>\n    </tr>\n  </tbody>\n</table>\n</div>"
     },
     "execution_count": 7,
     "metadata": {},
     "output_type": "execute_result"
    }
   ],
   "source": [
    "KBO_team"
   ],
   "metadata": {
    "collapsed": false,
    "pycharm": {
     "name": "#%%\n"
    }
   }
  },
  {
   "cell_type": "markdown",
   "source": [
    "## 시각화 진행할 것"
   ],
   "metadata": {
    "collapsed": false,
    "pycharm": {
     "name": "#%% md\n"
    }
   }
  },
  {
   "cell_type": "code",
   "execution_count": 8,
   "outputs": [
    {
     "data": {
      "text/plain": "['4.2.csv',\n '4.3.csv',\n '4.5.csv',\n '4.6.csv',\n '4.7.csv',\n '4.8.csv',\n '4.9.csv',\n '4.10.csv',\n '4.12.csv',\n '4.13.csv',\n '4.14.csv',\n '4.15.csv',\n '4.16.csv',\n '4.17.csv',\n '4.19.csv',\n '4.20.csv',\n '4.21.csv',\n '4.22.csv',\n '4.23.csv',\n '4.24.csv',\n '4.26.csv',\n '4.27.csv',\n '4.28.csv',\n '4.29.csv',\n '4.30.csv',\n '5.1.csv',\n '5.3.csv',\n '5.4.csv',\n '5.5.csv',\n '5.6.csv',\n '5.7.csv',\n '5.8.csv',\n '5.10.csv',\n '5.11.csv',\n '5.12.csv',\n '5.13.csv',\n '5.14.csv',\n '5.15.csv',\n '5.17.csv',\n '5.18.csv',\n '5.19.csv',\n '5.20.csv',\n '5.21.csv',\n '5.22.csv',\n '5.24.csv',\n '5.25.csv',\n '5.26.csv',\n '5.27.csv',\n '5.28.csv',\n '5.29.csv',\n '5.31.csv',\n '6.1.csv',\n '6.2.csv',\n '6.3.csv',\n '6.4.csv',\n '6.5.csv',\n '6.7.csv',\n '6.8.csv',\n '6.9.csv',\n '6.10.csv',\n '6.11.csv',\n '6.12.csv',\n '6.14.csv',\n '6.15.csv',\n '6.16.csv',\n '6.17.csv',\n '6.18.csv',\n '6.19.csv',\n '6.21.csv',\n '6.22.csv',\n '6.23.csv',\n '6.24.csv',\n '6.25.csv',\n '6.26.csv',\n '6.28.csv',\n '6.29.csv',\n '6.30.csv',\n '7.1.csv',\n '7.2.csv',\n '7.3.csv',\n '7.5.csv',\n '7.6.csv',\n '7.7.csv',\n '7.8.csv',\n '7.9.csv',\n '7.10.csv',\n '7.12.csv',\n '7.13.csv',\n '7.14.csv',\n '7.16.csv',\n '7.22.csv',\n '7.23.csv',\n '7.24.csv',\n '7.26.csv',\n '7.27.csv',\n '7.28.csv',\n '7.29.csv',\n '7.30.csv',\n '7.31.csv',\n '8.2.csv',\n '8.3.csv',\n '8.4.csv',\n '8.5.csv',\n '8.6.csv',\n '8.7.csv',\n '8.10.csv',\n '8.11.csv',\n '8.12.csv',\n '8.13.csv',\n '8.14.csv',\n '8.16.csv',\n '8.17.csv',\n '8.18.csv',\n '8.19.csv',\n '8.20.csv',\n '8.21.csv',\n '8.23.csv',\n '8.24.csv',\n '8.25.csv',\n '8.26.csv',\n '8.27.csv',\n '8.28.csv',\n '8.30.csv',\n '8.31.csv',\n '9.1.csv',\n '9.2.csv',\n '9.3.csv',\n '9.4.csv',\n '9.6.csv',\n '9.7.csv',\n '9.8.csv',\n '9.9.csv',\n '9.10.csv',\n '9.11.csv',\n '9.13.csv',\n '9.14.csv',\n '9.15.csv',\n '9.16.csv',\n '9.17.csv',\n '9.18.csv',\n '9.20.csv',\n '9.21.csv',\n '9.22.csv',\n '9.23.csv',\n '9.24.csv',\n '9.25.csv',\n '9.27.csv',\n '9.28.csv',\n '9.29.csv',\n '9.30.csv',\n '.DS_Store']"
     },
     "execution_count": 8,
     "metadata": {},
     "output_type": "execute_result"
    }
   ],
   "source": [
    "rank_list = os.listdir(\"./date_rank\")\n",
    "sorted_rank = natsort.natsorted(order_list)\n",
    "sorted_rank"
   ],
   "metadata": {
    "collapsed": false,
    "pycharm": {
     "name": "#%%\n"
    }
   }
  },
  {
   "cell_type": "code",
   "execution_count": 9,
   "outputs": [
    {
     "data": {
      "text/plain": "  Unnamed: 0  경기수  승리  무승부  패배    승점  게임차  순위\n0         두산    1   1    0   0  72.5  0.0   1\n1         LG    1   1    0   0  72.5  0.0   2\n2         롯데    1   1    0   0  72.5  0.0   3\n3        SSG    1   1    0   0  72.5  0.0   4\n4         KT    1   1    0   0  72.5  0.0   5\n5         삼성    1   0    0   1  71.5  1.0   6\n6         NC    1   0    0   1  71.5  1.0   7\n7         키움    1   0    0   1  71.5  1.0   8\n8        KIA    1   0    0   1  71.5  1.0   9\n9         한화    1   0    0   1  71.5  1.0  10",
      "text/html": "<div>\n<style scoped>\n    .dataframe tbody tr th:only-of-type {\n        vertical-align: middle;\n    }\n\n    .dataframe tbody tr th {\n        vertical-align: top;\n    }\n\n    .dataframe thead th {\n        text-align: right;\n    }\n</style>\n<table border=\"1\" class=\"dataframe\">\n  <thead>\n    <tr style=\"text-align: right;\">\n      <th></th>\n      <th>Unnamed: 0</th>\n      <th>경기수</th>\n      <th>승리</th>\n      <th>무승부</th>\n      <th>패배</th>\n      <th>승점</th>\n      <th>게임차</th>\n      <th>순위</th>\n    </tr>\n  </thead>\n  <tbody>\n    <tr>\n      <th>0</th>\n      <td>두산</td>\n      <td>1</td>\n      <td>1</td>\n      <td>0</td>\n      <td>0</td>\n      <td>72.5</td>\n      <td>0.0</td>\n      <td>1</td>\n    </tr>\n    <tr>\n      <th>1</th>\n      <td>LG</td>\n      <td>1</td>\n      <td>1</td>\n      <td>0</td>\n      <td>0</td>\n      <td>72.5</td>\n      <td>0.0</td>\n      <td>2</td>\n    </tr>\n    <tr>\n      <th>2</th>\n      <td>롯데</td>\n      <td>1</td>\n      <td>1</td>\n      <td>0</td>\n      <td>0</td>\n      <td>72.5</td>\n      <td>0.0</td>\n      <td>3</td>\n    </tr>\n    <tr>\n      <th>3</th>\n      <td>SSG</td>\n      <td>1</td>\n      <td>1</td>\n      <td>0</td>\n      <td>0</td>\n      <td>72.5</td>\n      <td>0.0</td>\n      <td>4</td>\n    </tr>\n    <tr>\n      <th>4</th>\n      <td>KT</td>\n      <td>1</td>\n      <td>1</td>\n      <td>0</td>\n      <td>0</td>\n      <td>72.5</td>\n      <td>0.0</td>\n      <td>5</td>\n    </tr>\n    <tr>\n      <th>5</th>\n      <td>삼성</td>\n      <td>1</td>\n      <td>0</td>\n      <td>0</td>\n      <td>1</td>\n      <td>71.5</td>\n      <td>1.0</td>\n      <td>6</td>\n    </tr>\n    <tr>\n      <th>6</th>\n      <td>NC</td>\n      <td>1</td>\n      <td>0</td>\n      <td>0</td>\n      <td>1</td>\n      <td>71.5</td>\n      <td>1.0</td>\n      <td>7</td>\n    </tr>\n    <tr>\n      <th>7</th>\n      <td>키움</td>\n      <td>1</td>\n      <td>0</td>\n      <td>0</td>\n      <td>1</td>\n      <td>71.5</td>\n      <td>1.0</td>\n      <td>8</td>\n    </tr>\n    <tr>\n      <th>8</th>\n      <td>KIA</td>\n      <td>1</td>\n      <td>0</td>\n      <td>0</td>\n      <td>1</td>\n      <td>71.5</td>\n      <td>1.0</td>\n      <td>9</td>\n    </tr>\n    <tr>\n      <th>9</th>\n      <td>한화</td>\n      <td>1</td>\n      <td>0</td>\n      <td>0</td>\n      <td>1</td>\n      <td>71.5</td>\n      <td>1.0</td>\n      <td>10</td>\n    </tr>\n  </tbody>\n</table>\n</div>"
     },
     "metadata": {},
     "output_type": "display_data"
    },
    {
     "data": {
      "text/plain": "  Unnamed: 0  경기수  승리  무승부  패배    승점  게임차  순위\n0         두산    2   2    0   0  73.0  0.0   1\n1         LG    2   2    0   0  73.0  0.0   2\n2        SSG    2   2    0   0  73.0  0.0   3\n3         KT    2   1    0   1  72.0  1.0   4\n4         롯데    2   1    0   1  72.0  1.0   5\n5         키움    2   1    0   1  72.0  1.0   6\n6         삼성    2   1    0   1  72.0  1.0   7\n7         NC    2   0    0   2  71.0  2.0   8\n8        KIA    2   0    0   2  71.0  2.0   9\n9         한화    2   0    0   2  71.0  2.0  10",
      "text/html": "<div>\n<style scoped>\n    .dataframe tbody tr th:only-of-type {\n        vertical-align: middle;\n    }\n\n    .dataframe tbody tr th {\n        vertical-align: top;\n    }\n\n    .dataframe thead th {\n        text-align: right;\n    }\n</style>\n<table border=\"1\" class=\"dataframe\">\n  <thead>\n    <tr style=\"text-align: right;\">\n      <th></th>\n      <th>Unnamed: 0</th>\n      <th>경기수</th>\n      <th>승리</th>\n      <th>무승부</th>\n      <th>패배</th>\n      <th>승점</th>\n      <th>게임차</th>\n      <th>순위</th>\n    </tr>\n  </thead>\n  <tbody>\n    <tr>\n      <th>0</th>\n      <td>두산</td>\n      <td>2</td>\n      <td>2</td>\n      <td>0</td>\n      <td>0</td>\n      <td>73.0</td>\n      <td>0.0</td>\n      <td>1</td>\n    </tr>\n    <tr>\n      <th>1</th>\n      <td>LG</td>\n      <td>2</td>\n      <td>2</td>\n      <td>0</td>\n      <td>0</td>\n      <td>73.0</td>\n      <td>0.0</td>\n      <td>2</td>\n    </tr>\n    <tr>\n      <th>2</th>\n      <td>SSG</td>\n      <td>2</td>\n      <td>2</td>\n      <td>0</td>\n      <td>0</td>\n      <td>73.0</td>\n      <td>0.0</td>\n      <td>3</td>\n    </tr>\n    <tr>\n      <th>3</th>\n      <td>KT</td>\n      <td>2</td>\n      <td>1</td>\n      <td>0</td>\n      <td>1</td>\n      <td>72.0</td>\n      <td>1.0</td>\n      <td>4</td>\n    </tr>\n    <tr>\n      <th>4</th>\n      <td>롯데</td>\n      <td>2</td>\n      <td>1</td>\n      <td>0</td>\n      <td>1</td>\n      <td>72.0</td>\n      <td>1.0</td>\n      <td>5</td>\n    </tr>\n    <tr>\n      <th>5</th>\n      <td>키움</td>\n      <td>2</td>\n      <td>1</td>\n      <td>0</td>\n      <td>1</td>\n      <td>72.0</td>\n      <td>1.0</td>\n      <td>6</td>\n    </tr>\n    <tr>\n      <th>6</th>\n      <td>삼성</td>\n      <td>2</td>\n      <td>1</td>\n      <td>0</td>\n      <td>1</td>\n      <td>72.0</td>\n      <td>1.0</td>\n      <td>7</td>\n    </tr>\n    <tr>\n      <th>7</th>\n      <td>NC</td>\n      <td>2</td>\n      <td>0</td>\n      <td>0</td>\n      <td>2</td>\n      <td>71.0</td>\n      <td>2.0</td>\n      <td>8</td>\n    </tr>\n    <tr>\n      <th>8</th>\n      <td>KIA</td>\n      <td>2</td>\n      <td>0</td>\n      <td>0</td>\n      <td>2</td>\n      <td>71.0</td>\n      <td>2.0</td>\n      <td>9</td>\n    </tr>\n    <tr>\n      <th>9</th>\n      <td>한화</td>\n      <td>2</td>\n      <td>0</td>\n      <td>0</td>\n      <td>2</td>\n      <td>71.0</td>\n      <td>2.0</td>\n      <td>10</td>\n    </tr>\n  </tbody>\n</table>\n</div>"
     },
     "metadata": {},
     "output_type": "display_data"
    },
    {
     "data": {
      "text/plain": "  Unnamed: 0  경기수  승리  무승부  패배    승점  게임차  순위\n0         LG    3   3    0   0  73.5  0.0   1\n1        SSG    3   3    0   0  73.5  0.0   2\n2         두산    3   2    0   1  72.5  1.0   3\n3         롯데    3   2    0   1  72.5  1.0   4\n4         삼성    3   2    0   1  72.5  1.0   5\n5         KT    3   1    0   2  71.5  2.0   6\n6         키움    3   1    0   2  71.5  2.0   7\n7        KIA    3   1    0   2  71.5  2.0   8\n8         NC    3   0    0   3  70.5  3.0   9\n9         한화    3   0    0   3  70.5  3.0  10",
      "text/html": "<div>\n<style scoped>\n    .dataframe tbody tr th:only-of-type {\n        vertical-align: middle;\n    }\n\n    .dataframe tbody tr th {\n        vertical-align: top;\n    }\n\n    .dataframe thead th {\n        text-align: right;\n    }\n</style>\n<table border=\"1\" class=\"dataframe\">\n  <thead>\n    <tr style=\"text-align: right;\">\n      <th></th>\n      <th>Unnamed: 0</th>\n      <th>경기수</th>\n      <th>승리</th>\n      <th>무승부</th>\n      <th>패배</th>\n      <th>승점</th>\n      <th>게임차</th>\n      <th>순위</th>\n    </tr>\n  </thead>\n  <tbody>\n    <tr>\n      <th>0</th>\n      <td>LG</td>\n      <td>3</td>\n      <td>3</td>\n      <td>0</td>\n      <td>0</td>\n      <td>73.5</td>\n      <td>0.0</td>\n      <td>1</td>\n    </tr>\n    <tr>\n      <th>1</th>\n      <td>SSG</td>\n      <td>3</td>\n      <td>3</td>\n      <td>0</td>\n      <td>0</td>\n      <td>73.5</td>\n      <td>0.0</td>\n      <td>2</td>\n    </tr>\n    <tr>\n      <th>2</th>\n      <td>두산</td>\n      <td>3</td>\n      <td>2</td>\n      <td>0</td>\n      <td>1</td>\n      <td>72.5</td>\n      <td>1.0</td>\n      <td>3</td>\n    </tr>\n    <tr>\n      <th>3</th>\n      <td>롯데</td>\n      <td>3</td>\n      <td>2</td>\n      <td>0</td>\n      <td>1</td>\n      <td>72.5</td>\n      <td>1.0</td>\n      <td>4</td>\n    </tr>\n    <tr>\n      <th>4</th>\n      <td>삼성</td>\n      <td>3</td>\n      <td>2</td>\n      <td>0</td>\n      <td>1</td>\n      <td>72.5</td>\n      <td>1.0</td>\n      <td>5</td>\n    </tr>\n    <tr>\n      <th>5</th>\n      <td>KT</td>\n      <td>3</td>\n      <td>1</td>\n      <td>0</td>\n      <td>2</td>\n      <td>71.5</td>\n      <td>2.0</td>\n      <td>6</td>\n    </tr>\n    <tr>\n      <th>6</th>\n      <td>키움</td>\n      <td>3</td>\n      <td>1</td>\n      <td>0</td>\n      <td>2</td>\n      <td>71.5</td>\n      <td>2.0</td>\n      <td>7</td>\n    </tr>\n    <tr>\n      <th>7</th>\n      <td>KIA</td>\n      <td>3</td>\n      <td>1</td>\n      <td>0</td>\n      <td>2</td>\n      <td>71.5</td>\n      <td>2.0</td>\n      <td>8</td>\n    </tr>\n    <tr>\n      <th>8</th>\n      <td>NC</td>\n      <td>3</td>\n      <td>0</td>\n      <td>0</td>\n      <td>3</td>\n      <td>70.5</td>\n      <td>3.0</td>\n      <td>9</td>\n    </tr>\n    <tr>\n      <th>9</th>\n      <td>한화</td>\n      <td>3</td>\n      <td>0</td>\n      <td>0</td>\n      <td>3</td>\n      <td>70.5</td>\n      <td>3.0</td>\n      <td>10</td>\n    </tr>\n  </tbody>\n</table>\n</div>"
     },
     "metadata": {},
     "output_type": "display_data"
    },
    {
     "data": {
      "text/plain": "  Unnamed: 0  경기수  승리  무승부  패배    승점  게임차  순위\n0         LG    4   4    0   0  74.0  0.0   1\n1        SSG    4   4    0   0  74.0  0.0   2\n2         삼성    4   3    0   1  73.0  1.0   3\n3         두산    4   2    0   2  72.0  2.0   4\n4         롯데    4   2    0   2  72.0  2.0   5\n5        KIA    4   2    0   2  72.0  2.0   6\n6         KT    4   1    0   3  71.0  3.0   7\n7         키움    4   1    0   3  71.0  3.0   8\n8         NC    4   1    0   3  71.0  3.0   9\n9         한화    4   0    0   4  70.0  4.0  10",
      "text/html": "<div>\n<style scoped>\n    .dataframe tbody tr th:only-of-type {\n        vertical-align: middle;\n    }\n\n    .dataframe tbody tr th {\n        vertical-align: top;\n    }\n\n    .dataframe thead th {\n        text-align: right;\n    }\n</style>\n<table border=\"1\" class=\"dataframe\">\n  <thead>\n    <tr style=\"text-align: right;\">\n      <th></th>\n      <th>Unnamed: 0</th>\n      <th>경기수</th>\n      <th>승리</th>\n      <th>무승부</th>\n      <th>패배</th>\n      <th>승점</th>\n      <th>게임차</th>\n      <th>순위</th>\n    </tr>\n  </thead>\n  <tbody>\n    <tr>\n      <th>0</th>\n      <td>LG</td>\n      <td>4</td>\n      <td>4</td>\n      <td>0</td>\n      <td>0</td>\n      <td>74.0</td>\n      <td>0.0</td>\n      <td>1</td>\n    </tr>\n    <tr>\n      <th>1</th>\n      <td>SSG</td>\n      <td>4</td>\n      <td>4</td>\n      <td>0</td>\n      <td>0</td>\n      <td>74.0</td>\n      <td>0.0</td>\n      <td>2</td>\n    </tr>\n    <tr>\n      <th>2</th>\n      <td>삼성</td>\n      <td>4</td>\n      <td>3</td>\n      <td>0</td>\n      <td>1</td>\n      <td>73.0</td>\n      <td>1.0</td>\n      <td>3</td>\n    </tr>\n    <tr>\n      <th>3</th>\n      <td>두산</td>\n      <td>4</td>\n      <td>2</td>\n      <td>0</td>\n      <td>2</td>\n      <td>72.0</td>\n      <td>2.0</td>\n      <td>4</td>\n    </tr>\n    <tr>\n      <th>4</th>\n      <td>롯데</td>\n      <td>4</td>\n      <td>2</td>\n      <td>0</td>\n      <td>2</td>\n      <td>72.0</td>\n      <td>2.0</td>\n      <td>5</td>\n    </tr>\n    <tr>\n      <th>5</th>\n      <td>KIA</td>\n      <td>4</td>\n      <td>2</td>\n      <td>0</td>\n      <td>2</td>\n      <td>72.0</td>\n      <td>2.0</td>\n      <td>6</td>\n    </tr>\n    <tr>\n      <th>6</th>\n      <td>KT</td>\n      <td>4</td>\n      <td>1</td>\n      <td>0</td>\n      <td>3</td>\n      <td>71.0</td>\n      <td>3.0</td>\n      <td>7</td>\n    </tr>\n    <tr>\n      <th>7</th>\n      <td>키움</td>\n      <td>4</td>\n      <td>1</td>\n      <td>0</td>\n      <td>3</td>\n      <td>71.0</td>\n      <td>3.0</td>\n      <td>8</td>\n    </tr>\n    <tr>\n      <th>8</th>\n      <td>NC</td>\n      <td>4</td>\n      <td>1</td>\n      <td>0</td>\n      <td>3</td>\n      <td>71.0</td>\n      <td>3.0</td>\n      <td>9</td>\n    </tr>\n    <tr>\n      <th>9</th>\n      <td>한화</td>\n      <td>4</td>\n      <td>0</td>\n      <td>0</td>\n      <td>4</td>\n      <td>70.0</td>\n      <td>4.0</td>\n      <td>10</td>\n    </tr>\n  </tbody>\n</table>\n</div>"
     },
     "metadata": {},
     "output_type": "display_data"
    },
    {
     "data": {
      "text/plain": "  Unnamed: 0  경기수  승리  무승부  패배    승점  게임차  순위\n0         LG    5   5    0   0  74.5  0.0   1\n1        SSG    5   5    0   0  74.5  0.0   2\n2         삼성    5   3    0   2  72.5  2.0   3\n3        KIA    5   3    0   2  72.5  2.0   4\n4         롯데    5   3    0   2  72.5  2.0   5\n5         두산    5   3    0   2  72.5  2.0   6\n6         KT    5   1    0   4  70.5  4.0   7\n7         NC    5   1    0   4  70.5  4.0   8\n8         키움    5   1    0   4  70.5  4.0   9\n9         한화    5   0    0   5  69.5  5.0  10",
      "text/html": "<div>\n<style scoped>\n    .dataframe tbody tr th:only-of-type {\n        vertical-align: middle;\n    }\n\n    .dataframe tbody tr th {\n        vertical-align: top;\n    }\n\n    .dataframe thead th {\n        text-align: right;\n    }\n</style>\n<table border=\"1\" class=\"dataframe\">\n  <thead>\n    <tr style=\"text-align: right;\">\n      <th></th>\n      <th>Unnamed: 0</th>\n      <th>경기수</th>\n      <th>승리</th>\n      <th>무승부</th>\n      <th>패배</th>\n      <th>승점</th>\n      <th>게임차</th>\n      <th>순위</th>\n    </tr>\n  </thead>\n  <tbody>\n    <tr>\n      <th>0</th>\n      <td>LG</td>\n      <td>5</td>\n      <td>5</td>\n      <td>0</td>\n      <td>0</td>\n      <td>74.5</td>\n      <td>0.0</td>\n      <td>1</td>\n    </tr>\n    <tr>\n      <th>1</th>\n      <td>SSG</td>\n      <td>5</td>\n      <td>5</td>\n      <td>0</td>\n      <td>0</td>\n      <td>74.5</td>\n      <td>0.0</td>\n      <td>2</td>\n    </tr>\n    <tr>\n      <th>2</th>\n      <td>삼성</td>\n      <td>5</td>\n      <td>3</td>\n      <td>0</td>\n      <td>2</td>\n      <td>72.5</td>\n      <td>2.0</td>\n      <td>3</td>\n    </tr>\n    <tr>\n      <th>3</th>\n      <td>KIA</td>\n      <td>5</td>\n      <td>3</td>\n      <td>0</td>\n      <td>2</td>\n      <td>72.5</td>\n      <td>2.0</td>\n      <td>4</td>\n    </tr>\n    <tr>\n      <th>4</th>\n      <td>롯데</td>\n      <td>5</td>\n      <td>3</td>\n      <td>0</td>\n      <td>2</td>\n      <td>72.5</td>\n      <td>2.0</td>\n      <td>5</td>\n    </tr>\n    <tr>\n      <th>5</th>\n      <td>두산</td>\n      <td>5</td>\n      <td>3</td>\n      <td>0</td>\n      <td>2</td>\n      <td>72.5</td>\n      <td>2.0</td>\n      <td>6</td>\n    </tr>\n    <tr>\n      <th>6</th>\n      <td>KT</td>\n      <td>5</td>\n      <td>1</td>\n      <td>0</td>\n      <td>4</td>\n      <td>70.5</td>\n      <td>4.0</td>\n      <td>7</td>\n    </tr>\n    <tr>\n      <th>7</th>\n      <td>NC</td>\n      <td>5</td>\n      <td>1</td>\n      <td>0</td>\n      <td>4</td>\n      <td>70.5</td>\n      <td>4.0</td>\n      <td>8</td>\n    </tr>\n    <tr>\n      <th>8</th>\n      <td>키움</td>\n      <td>5</td>\n      <td>1</td>\n      <td>0</td>\n      <td>4</td>\n      <td>70.5</td>\n      <td>4.0</td>\n      <td>9</td>\n    </tr>\n    <tr>\n      <th>9</th>\n      <td>한화</td>\n      <td>5</td>\n      <td>0</td>\n      <td>0</td>\n      <td>5</td>\n      <td>69.5</td>\n      <td>5.0</td>\n      <td>10</td>\n    </tr>\n  </tbody>\n</table>\n</div>"
     },
     "metadata": {},
     "output_type": "display_data"
    }
   ],
   "source": [
    "for file in sorted_rank[:5]:\n",
    "    test_df = pd.read_csv(\"./date_rank/\"+file)\n",
    "    display(test_df)"
   ],
   "metadata": {
    "collapsed": false,
    "pycharm": {
     "name": "#%%\n"
    }
   }
  },
  {
   "cell_type": "code",
   "execution_count": 39,
   "outputs": [
    {
     "data": {
      "text/plain": "    팀명  경기수  승리  무승부  패배    승점   게임차  순위\n0  SSG   97  65    3  29  90.0   0.0   1\n1   키움   98  58    2  38  82.0   8.0   2\n2   LG   95  57    1  37  82.0   8.0   3\n3   KT   94  50    2  42  76.0  14.0   4\n4  KIA   95  48    1  46  73.0  17.0   5\n5   두산   93  41    2  50  67.5  22.5   6\n6   롯데   97  40    4  53  65.5  24.5   7\n7   NC   93  38    3  52  65.0  25.0   8\n8   삼성   96  39    2  55  64.0  26.0   9\n9   한화   96  30    2  64  55.0  35.0  10",
      "text/html": "<div>\n<style scoped>\n    .dataframe tbody tr th:only-of-type {\n        vertical-align: middle;\n    }\n\n    .dataframe tbody tr th {\n        vertical-align: top;\n    }\n\n    .dataframe thead th {\n        text-align: right;\n    }\n</style>\n<table border=\"1\" class=\"dataframe\">\n  <thead>\n    <tr style=\"text-align: right;\">\n      <th></th>\n      <th>팀명</th>\n      <th>경기수</th>\n      <th>승리</th>\n      <th>무승부</th>\n      <th>패배</th>\n      <th>승점</th>\n      <th>게임차</th>\n      <th>순위</th>\n    </tr>\n  </thead>\n  <tbody>\n    <tr>\n      <th>0</th>\n      <td>SSG</td>\n      <td>97</td>\n      <td>65</td>\n      <td>3</td>\n      <td>29</td>\n      <td>90.0</td>\n      <td>0.0</td>\n      <td>1</td>\n    </tr>\n    <tr>\n      <th>1</th>\n      <td>키움</td>\n      <td>98</td>\n      <td>58</td>\n      <td>2</td>\n      <td>38</td>\n      <td>82.0</td>\n      <td>8.0</td>\n      <td>2</td>\n    </tr>\n    <tr>\n      <th>2</th>\n      <td>LG</td>\n      <td>95</td>\n      <td>57</td>\n      <td>1</td>\n      <td>37</td>\n      <td>82.0</td>\n      <td>8.0</td>\n      <td>3</td>\n    </tr>\n    <tr>\n      <th>3</th>\n      <td>KT</td>\n      <td>94</td>\n      <td>50</td>\n      <td>2</td>\n      <td>42</td>\n      <td>76.0</td>\n      <td>14.0</td>\n      <td>4</td>\n    </tr>\n    <tr>\n      <th>4</th>\n      <td>KIA</td>\n      <td>95</td>\n      <td>48</td>\n      <td>1</td>\n      <td>46</td>\n      <td>73.0</td>\n      <td>17.0</td>\n      <td>5</td>\n    </tr>\n    <tr>\n      <th>5</th>\n      <td>두산</td>\n      <td>93</td>\n      <td>41</td>\n      <td>2</td>\n      <td>50</td>\n      <td>67.5</td>\n      <td>22.5</td>\n      <td>6</td>\n    </tr>\n    <tr>\n      <th>6</th>\n      <td>롯데</td>\n      <td>97</td>\n      <td>40</td>\n      <td>4</td>\n      <td>53</td>\n      <td>65.5</td>\n      <td>24.5</td>\n      <td>7</td>\n    </tr>\n    <tr>\n      <th>7</th>\n      <td>NC</td>\n      <td>93</td>\n      <td>38</td>\n      <td>3</td>\n      <td>52</td>\n      <td>65.0</td>\n      <td>25.0</td>\n      <td>8</td>\n    </tr>\n    <tr>\n      <th>8</th>\n      <td>삼성</td>\n      <td>96</td>\n      <td>39</td>\n      <td>2</td>\n      <td>55</td>\n      <td>64.0</td>\n      <td>26.0</td>\n      <td>9</td>\n    </tr>\n    <tr>\n      <th>9</th>\n      <td>한화</td>\n      <td>96</td>\n      <td>30</td>\n      <td>2</td>\n      <td>64</td>\n      <td>55.0</td>\n      <td>35.0</td>\n      <td>10</td>\n    </tr>\n  </tbody>\n</table>\n</div>"
     },
     "execution_count": 39,
     "metadata": {},
     "output_type": "execute_result"
    }
   ],
   "source": [
    "test_data = pd.read_csv(\"./date_rank/8.4.csv\", index_col=False)\n",
    "test_data.rename(columns={\"Unnamed: 0\":\"팀명\"}, inplace=True)\n",
    "test_data"
   ],
   "metadata": {
    "collapsed": false,
    "pycharm": {
     "name": "#%%\n"
    }
   }
  },
  {
   "cell_type": "markdown",
   "source": [
    "### 정리\n",
    "- 현재 필요한 정보: 순위 별 팀명, 일자"
   ],
   "metadata": {
    "collapsed": false,
    "pycharm": {
     "name": "#%% md\n"
    }
   }
  },
  {
   "cell_type": "code",
   "execution_count": 40,
   "outputs": [],
   "source": [
    "test_data = pd.DataFrame(test_data[[\"팀명\", \"순위\"]])\n",
    "test_data = test_data.T"
   ],
   "metadata": {
    "collapsed": false,
    "pycharm": {
     "name": "#%%\n"
    }
   }
  },
  {
   "cell_type": "code",
   "execution_count": 41,
   "outputs": [
    {
     "data": {
      "text/plain": "[1, 2, 3, 4, 5, 6, 7, 8, 9, 10]"
     },
     "execution_count": 41,
     "metadata": {},
     "output_type": "execute_result"
    }
   ],
   "source": [
    "num_list = [int(i) for i in range(1,11)]\n",
    "num_list"
   ],
   "metadata": {
    "collapsed": false,
    "pycharm": {
     "name": "#%%\n"
    }
   }
  },
  {
   "cell_type": "code",
   "execution_count": 42,
   "outputs": [],
   "source": [
    "test_data.columns = num_list\n",
    "file = file.replace('.csv','')\n",
    "test_data.loc[\"일자\"] = file"
   ],
   "metadata": {
    "collapsed": false,
    "pycharm": {
     "name": "#%%\n"
    }
   }
  },
  {
   "cell_type": "code",
   "execution_count": 43,
   "outputs": [
    {
     "data": {
      "text/plain": "     1    2    3    4    5    6    7    8    9    10\n팀명  SSG   키움   LG   KT  KIA   두산   롯데   NC   삼성   한화\n순위    1    2    3    4    5    6    7    8    9   10\n일자  4.7  4.7  4.7  4.7  4.7  4.7  4.7  4.7  4.7  4.7",
      "text/html": "<div>\n<style scoped>\n    .dataframe tbody tr th:only-of-type {\n        vertical-align: middle;\n    }\n\n    .dataframe tbody tr th {\n        vertical-align: top;\n    }\n\n    .dataframe thead th {\n        text-align: right;\n    }\n</style>\n<table border=\"1\" class=\"dataframe\">\n  <thead>\n    <tr style=\"text-align: right;\">\n      <th></th>\n      <th>1</th>\n      <th>2</th>\n      <th>3</th>\n      <th>4</th>\n      <th>5</th>\n      <th>6</th>\n      <th>7</th>\n      <th>8</th>\n      <th>9</th>\n      <th>10</th>\n    </tr>\n  </thead>\n  <tbody>\n    <tr>\n      <th>팀명</th>\n      <td>SSG</td>\n      <td>키움</td>\n      <td>LG</td>\n      <td>KT</td>\n      <td>KIA</td>\n      <td>두산</td>\n      <td>롯데</td>\n      <td>NC</td>\n      <td>삼성</td>\n      <td>한화</td>\n    </tr>\n    <tr>\n      <th>순위</th>\n      <td>1</td>\n      <td>2</td>\n      <td>3</td>\n      <td>4</td>\n      <td>5</td>\n      <td>6</td>\n      <td>7</td>\n      <td>8</td>\n      <td>9</td>\n      <td>10</td>\n    </tr>\n    <tr>\n      <th>일자</th>\n      <td>4.7</td>\n      <td>4.7</td>\n      <td>4.7</td>\n      <td>4.7</td>\n      <td>4.7</td>\n      <td>4.7</td>\n      <td>4.7</td>\n      <td>4.7</td>\n      <td>4.7</td>\n      <td>4.7</td>\n    </tr>\n  </tbody>\n</table>\n</div>"
     },
     "execution_count": 43,
     "metadata": {},
     "output_type": "execute_result"
    }
   ],
   "source": [
    "test_data"
   ],
   "metadata": {
    "collapsed": false,
    "pycharm": {
     "name": "#%%\n"
    }
   }
  },
  {
   "cell_type": "code",
   "execution_count": 74,
   "outputs": [],
   "source": [
    "result_df = pd.DataFrame(test_data.loc[[\"일자\", \"팀명\", \"순위\"]])\n",
    "result_df = result_df.T"
   ],
   "metadata": {
    "collapsed": false,
    "pycharm": {
     "name": "#%%\n"
    }
   }
  },
  {
   "cell_type": "code",
   "execution_count": 77,
   "outputs": [],
   "source": [
    "result_df.index = result_df[\"팀명\"]"
   ],
   "metadata": {
    "collapsed": false,
    "pycharm": {
     "name": "#%%\n"
    }
   }
  },
  {
   "cell_type": "code",
   "execution_count": 78,
   "outputs": [
    {
     "data": {
      "text/plain": "      일자   팀명  순위\n팀명               \nSSG  4.7  SSG   1\n키움   4.7   키움   2\nLG   4.7   LG   3\nKT   4.7   KT   4\nKIA  4.7  KIA   5\n두산   4.7   두산   6\n롯데   4.7   롯데   7\nNC   4.7   NC   8\n삼성   4.7   삼성   9\n한화   4.7   한화  10",
      "text/html": "<div>\n<style scoped>\n    .dataframe tbody tr th:only-of-type {\n        vertical-align: middle;\n    }\n\n    .dataframe tbody tr th {\n        vertical-align: top;\n    }\n\n    .dataframe thead th {\n        text-align: right;\n    }\n</style>\n<table border=\"1\" class=\"dataframe\">\n  <thead>\n    <tr style=\"text-align: right;\">\n      <th></th>\n      <th>일자</th>\n      <th>팀명</th>\n      <th>순위</th>\n    </tr>\n    <tr>\n      <th>팀명</th>\n      <th></th>\n      <th></th>\n      <th></th>\n    </tr>\n  </thead>\n  <tbody>\n    <tr>\n      <th>SSG</th>\n      <td>4.7</td>\n      <td>SSG</td>\n      <td>1</td>\n    </tr>\n    <tr>\n      <th>키움</th>\n      <td>4.7</td>\n      <td>키움</td>\n      <td>2</td>\n    </tr>\n    <tr>\n      <th>LG</th>\n      <td>4.7</td>\n      <td>LG</td>\n      <td>3</td>\n    </tr>\n    <tr>\n      <th>KT</th>\n      <td>4.7</td>\n      <td>KT</td>\n      <td>4</td>\n    </tr>\n    <tr>\n      <th>KIA</th>\n      <td>4.7</td>\n      <td>KIA</td>\n      <td>5</td>\n    </tr>\n    <tr>\n      <th>두산</th>\n      <td>4.7</td>\n      <td>두산</td>\n      <td>6</td>\n    </tr>\n    <tr>\n      <th>롯데</th>\n      <td>4.7</td>\n      <td>롯데</td>\n      <td>7</td>\n    </tr>\n    <tr>\n      <th>NC</th>\n      <td>4.7</td>\n      <td>NC</td>\n      <td>8</td>\n    </tr>\n    <tr>\n      <th>삼성</th>\n      <td>4.7</td>\n      <td>삼성</td>\n      <td>9</td>\n    </tr>\n    <tr>\n      <th>한화</th>\n      <td>4.7</td>\n      <td>한화</td>\n      <td>10</td>\n    </tr>\n  </tbody>\n</table>\n</div>"
     },
     "execution_count": 78,
     "metadata": {},
     "output_type": "execute_result"
    }
   ],
   "source": [
    "result_df"
   ],
   "metadata": {
    "collapsed": false,
    "pycharm": {
     "name": "#%%\n"
    }
   }
  },
  {
   "cell_type": "code",
   "execution_count": 84,
   "outputs": [
    {
     "data": {
      "text/plain": "<matplotlib.collections.PathCollection at 0x1361b2cb0>"
     },
     "execution_count": 84,
     "metadata": {},
     "output_type": "execute_result"
    },
    {
     "data": {
      "text/plain": "<Figure size 640x480 with 1 Axes>",
      "image/png": "[encoded data removed]"
     },
     "metadata": {},
     "output_type": "display_data"
    }
   ],
   "source": [
    "from matplotlib import pyplot as plt\n",
    "LG_y = result_df.loc[\"LG\", \"순위\"]\n",
    "LG_x = result_df.loc[\"LG\", \"일자\"]\n",
    "NC_x = result_df.loc[\"NC\", \"순위\"]\n",
    "NC_y = result_df.loc[\"NC\", \"일자\"]\n",
    "plt.scatter(LG_x, LG_y)\n",
    "plt.scatter(NC_x, NC_y)"
   ],
   "metadata": {
    "collapsed": false,
    "pycharm": {
     "name": "#%%\n"
    }
   }
  },
  {
   "cell_type": "code",
   "execution_count": null,
   "outputs": [],
   "source": [],
   "metadata": {
    "collapsed": false,
    "pycharm": {
     "name": "#%%\n"
    }
   }
  }
 ],
 "metadata": {
  "kernelspec": {
   "display_name": "Python 3",
   "language": "python",
   "name": "python3"
  },
  "language_info": {
   "codemirror_mode": {
    "name": "ipython",
    "version": 2
   },
   "file_extension": ".py",
   "mimetype": "text/x-python",
   "name": "python",
   "nbconvert_exporter": "python",
   "pygments_lexer": "ipython2",
   "version": "2.7.6"
  },
  "colab": {
   "provenance": []
  }
 },
 "nbformat": 4,
 "nbformat_minor": 0
}