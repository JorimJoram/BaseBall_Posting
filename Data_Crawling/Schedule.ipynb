{
 "cells": [
  {
   "cell_type": "markdown",
   "source": [
    "## 금주 목표\n",
    "### 이번 시즌 팀 순위 시각화"
   ],
   "metadata": {
    "collapsed": false,
    "pycharm": {
     "name": "#%% md\n"
    },
    "id": "GVxg5EpDJots"
   }
  },
  {
   "cell_type": "code",
   "execution_count": null,
   "outputs": [],
   "source": [
    "import natsort as natsort\n",
    "import pandas as pd\n",
    "import os\n",
    "import natsort\n",
    "#from IPython.core.display_functions import display\n",
    "\n",
    "os.makedirs(\"date\")"
   ],
   "metadata": {
    "collapsed": false,
    "pycharm": {
     "name": "#%%\n"
    }
   }
  },
  {
   "cell_type": "code",
   "execution_count": null,
   "outputs": [],
   "source": [
    "for month in range(4, 10):\n",
    "    url = \"http://www.statiz.co.kr/schedule.php?opt={}&sy=2022\".format(month)\n",
    "    print(url)\n",
    "df = pd.read_html(url)\n",
    "schedule = df[1]"
   ],
   "metadata": {
    "collapsed": false,
    "pycharm": {
     "name": "#%%\n"
    }
   }
  },
  {
   "cell_type": "code",
   "execution_count": null,
   "outputs": [],
   "source": [
    "month = 4\n",
    "url = \"https://sports.news.naver.com/kbaseball/schedule/index?date=20220927&month={}&year=2022&teamCode=\".format(month)\n",
    "df = pd.read_html(url)"
   ],
   "metadata": {
    "collapsed": false,
    "pycharm": {
     "name": "#%%\n"
    }
   }
  },
  {
   "cell_type": "code",
   "execution_count": null,
   "outputs": [],
   "source": [
    "for i in range(1, len(df)-1): #제일 위에 column 목차가 df단위로 떨어져서 삭제하는걸로 함, 그리고 마지막 df는 <맨위로>키 정보가 있는 테이블이라 범위에 넣지 않음.\n",
    "    if df[i][2][0] == \"프로야구 경기가 없습니다.\":\n",
    "        continue\n",
    "    remain= df[i].loc[:, [0, 1, 2, 4, 5]]\n",
    "    remain.rename(columns={0:\"일자\", 1:\"시각\", 2:\"경기결과\", 4:\"중계사\", 5:\"구장\"} , inplace=True)\n",
    "    text = remain[\"일자\"][0]\n",
    "    remain.to_csv(\"./date\"+text, header=True, encoding='UTF-8')"
   ],
   "metadata": {
    "collapsed": false,
    "pycharm": {
     "name": "#%%\n"
    }
   }
  },
  {
   "cell_type": "code",
   "execution_count": null,
   "outputs": [],
   "source": [
    "for month in range(4, 10):\n",
    "    url = \"https://sports.news.naver.com/kbaseball/schedule/index?&month={}&year=2022&teamCode=\".format(month)\n",
    "    df = pd.read_html(url)\n",
    "    for i in range(1, len(df)-1): #제일 위에 column 목차가 df단위로 떨어져서 삭제하는걸로 함, 그리고 마지막 df는 <맨위로>키 정보가 있는 테이블이라 범위에 넣지 않음.\n",
    "        if df[i][2][0] == \"프로야구 경기가 없습니다.\":\n",
    "            continue\n",
    "        remain= df[i].loc[:, [0, 1, 2, 4, 5]]\n",
    "        remain.rename(columns={0:\"일자\", 1:\"시각\", 2:\"경기결과\", 4:\"중계사\", 5:\"구장\"} , inplace=True)\n",
    "        text = remain[\"일자\"][0].split()[0]\n",
    "        remain.to_csv(\"./date/\"+text+'.csv', header=True, encoding='UTF-8', index=False)\n",
    "    print(month, \"완료\")"
   ],
   "metadata": {
    "collapsed": false,
    "pycharm": {
     "name": "#%%\n"
    }
   }
  },
  {
   "cell_type": "markdown",
   "source": [
    "## DataFrame 에서 얻어낸 것\n",
    "1. 네이버는 https 프로토콜을 사용하므로 ssl때문에 certification 관련 추가 작업이 필요했음\n",
    "1-1. 따라서 terminal에 `pip install --upgrade certifi`를 추가적으로 작성함\n",
    "1-2. 그리고 Application > python 3.10 > install certifi 진행\n",
    "2. 네이버의 경우, 일정별로 깔끔하게 떨어져서 나옴\n",
    "3. 다만, 데이터프레임의 개수가 많이 나타남"
   ],
   "metadata": {
    "collapsed": false,
    "pycharm": {
     "name": "#%% md\n"
    }
   }
  },
  {
   "cell_type": "code",
   "execution_count": null,
   "outputs": [],
   "source": [
    "start_data = {\"LG\":[0,0,0,0], \"KIA\":[0,0,0,0], \"NC\":[0,0,0,0], \"SSG\":[0,0,0,0], \"한화\":[0,0,0,0], \"두산\":[0,0,0,0],\"키움\":[0,0,0,0],\"삼성\":[0,0,0,0],\"KT\":[0,0,0,0], \"롯데\":[0,0,0,0]}\n",
    "KBO_team = pd.DataFrame(start_data, index= [\"경기수\", \"승리\", \"무승부\",\"패배\"])\n",
    "KBO_team = KBO_team.T\n",
    "KBO_team"
   ],
   "metadata": {
    "collapsed": false,
    "pycharm": {
     "name": "#%%\n"
    }
   }
  },
  {
   "cell_type": "code",
   "execution_count": null,
   "outputs": [],
   "source": [
    "order_list = os.listdir(\"./date\")\n",
    "sorted_list = natsort.natsorted(order_list)\n",
    "#sorted_list"
   ],
   "metadata": {
    "collapsed": false,
    "pycharm": {
     "name": "#%%\n"
    }
   }
  },
  {
   "cell_type": "code",
   "execution_count": null,
   "outputs": [],
   "source": [
    "for file in sorted_list:\n",
    "    data = pd.read_csv(\"./date/\" + file)\n",
    "    for i in data.index:\n",
    "        line = data.loc[i, :]\n",
    "\n",
    "        if len(line[2].split(\":\")) == 1:\n",
    "            continue\n",
    "\n",
    "        away, home = line[2].split(\":\")\n",
    "        home = home.split()\n",
    "        away = away.split()\n",
    "        h_score, h_team = home\n",
    "        a_team, a_score = away\n",
    "        h_score = int(h_score)\n",
    "        a_score = int(a_score)\n",
    "\n",
    "        if h_team == \"나눔\" or a_team == \"나눔\":\n",
    "            continue #올스타전 제외\n",
    "        if line[\"일자\"] == \"8.4 (목)\":\n",
    "            print(\"home\", home)\n",
    "            print(\"away\", away)\n",
    "            print()\n",
    "            if h_score < a_score:\n",
    "                print(\"home score:\", h_score, \"away score:\", a_score)\n",
    "                print()\n",
    "\n",
    "        #리팩토링은 항상 모두 완료하고나서 할 것\n",
    "        if h_score > a_score: #홈팀 승리\n",
    "            KBO_team.loc[h_team, [\"승리\"]] +=1\n",
    "            KBO_team.loc[a_team, [\"패배\"]] +=1\n",
    "            # if a_team == \"LG\":\n",
    "            #     print(line[[\"일자\", \"경기결과\"]])\n",
    "        elif h_score < a_score:\n",
    "            KBO_team.loc[a_team, [\"승리\"]] +=1\n",
    "            KBO_team.loc[h_team, [\"패배\"]] +=1\n",
    "            # if h_team == \"LG\":\n",
    "            #     print(line[[\"일자\", \"경기결과\"]])\n",
    "        else:\n",
    "            KBO_team.loc[h_team, [\"무승부\"]] +=1\n",
    "            KBO_team.loc[a_team, [\"무승부\"]] +=1\n",
    "#원인찾았다. 이거 숫자가 문자열로 되어있어서 그랬음"
   ],
   "metadata": {
    "collapsed": false,
    "pycharm": {
     "name": "#%%\n"
    }
   }
  },
  {
   "cell_type": "code",
   "execution_count": null,
   "outputs": [],
   "source": [
    "KBO_team[\"경기수\"] = KBO_team[\"승리\"] + KBO_team[\"패배\"] + KBO_team[\"무승부\"]\n",
    "KBO_team.sort_values(by=\"승리\", inplace=True, ascending=False)\n",
    "KBO_team\n",
    "\n",
    "# 경기 수는 맞는데, 승리가 이상하게 집계됨\n",
    "# 원인은 아직 모르겠음"
   ],
   "metadata": {
    "collapsed": false,
    "pycharm": {
     "name": "#%%\n"
    }
   }
  },
  {
   "cell_type": "code",
   "execution_count": null,
   "outputs": [],
   "source": [
    "ori_data  = {\"LG\":[132,81,2,49], \"KIA\":[136,65,1,70], \"NC\":[133,60,3,70], \"SSG\":[137,86,4,47], \"한화\":[136,44,2,90], \"두산\":[133,56,2,75],\"키움\":[139,78,2,59],\"삼성\":[135,60,2,73],\"KT\":[135,74,2,59], \"롯데\":[138,61,4,73]}\n",
    "\n",
    "ori_team = pd.DataFrame(ori_data, index= [\"경기수\", \"승리\", \"무승부\",\"패배\"])\n",
    "ori_team = ori_team.T\n",
    "ori_team.sort_values(by=\"승리\", inplace=True, ascending=False)\n",
    "ori_team"
   ],
   "metadata": {
    "collapsed": false,
    "pycharm": {
     "name": "#%%\n"
    }
   }
  },
  {
   "cell_type": "code",
   "execution_count": null,
   "outputs": [],
   "source": [
    "KBO_team - ori_team\n",
    "# 원본 데이터는 문제가 없음.\n",
    "# 직접 수기로 세아린 결과, 정확히 똑같은 승리를 세아림\n",
    "# 크롤링 한 것도 확인해봤는데, 문제 없었음.\n",
    "# 아마 승, 패 넣는 과정에서 오류 생긴 것으로 보임\n",
    "\n",
    "\n",
    "# 애초에 split()으로 문자열을 나눠놔놓고 그걸 다시 int형으로 안바꿨으니 이상하게 나온거임\n",
    "# 그나마 다행인게 8.4경기가 12점 냈는데 져서 이상하다 싶었음ㅋㅋㅋ"
   ],
   "metadata": {
    "collapsed": false,
    "pycharm": {
     "name": "#%%\n"
    }
   }
  },
  {
   "cell_type": "code",
   "execution_count": null,
   "outputs": [],
   "source": [],
   "metadata": {
    "pycharm": {
     "name": "#%%\n"
    },
    "id": "HTljE5axJot6"
   }
  }
 ],
 "metadata": {
  "kernelspec": {
   "display_name": "Python 3",
   "language": "python",
   "name": "python3"
  },
  "language_info": {
   "codemirror_mode": {
    "name": "ipython",
    "version": 2
   },
   "file_extension": ".py",
   "mimetype": "text/x-python",
   "name": "python",
   "nbconvert_exporter": "python",
   "pygments_lexer": "ipython2",
   "version": "2.7.6"
  },
  "colab": {
   "provenance": []
  }
 },
 "nbformat": 4,
 "nbformat_minor": 0
}