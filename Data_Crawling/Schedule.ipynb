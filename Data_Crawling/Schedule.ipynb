{
 "cells": [
  {
   "cell_type": "markdown",
   "source": [
    "## 금주 목표\n",
    "### 이번 시즌 팀 순위 시각화"
   ],
   "metadata": {
    "collapsed": false,
    "pycharm": {
     "name": "#%% md\n"
    }
   }
  },
  {
   "cell_type": "code",
   "execution_count": 202,
   "outputs": [],
   "source": [
    "import natsort as natsort\n",
    "import pandas as pd\n",
    "import os\n",
    "import natsort\n",
    "from IPython.core.display_functions import display"
   ],
   "metadata": {
    "collapsed": false,
    "pycharm": {
     "name": "#%%\n"
    }
   }
  },
  {
   "cell_type": "code",
   "execution_count": 40,
   "outputs": [
    {
     "name": "stdout",
     "output_type": "stream",
     "text": [
      "http://www.statiz.co.kr/schedule.php?opt=4&sy=2022\n",
      "http://www.statiz.co.kr/schedule.php?opt=5&sy=2022\n",
      "http://www.statiz.co.kr/schedule.php?opt=6&sy=2022\n",
      "http://www.statiz.co.kr/schedule.php?opt=7&sy=2022\n",
      "http://www.statiz.co.kr/schedule.php?opt=8&sy=2022\n",
      "http://www.statiz.co.kr/schedule.php?opt=9&sy=2022\n"
     ]
    }
   ],
   "source": [
    "for month in range(4, 10):\n",
    "    url = \"http://www.statiz.co.kr/schedule.php?opt={}&sy=2022\".format(month)\n",
    "    print(url)\n",
    "df = pd.read_html(url)\n",
    "schedule = df[1]"
   ],
   "metadata": {
    "collapsed": false,
    "pycharm": {
     "name": "#%%\n"
    }
   }
  },
  {
   "cell_type": "code",
   "execution_count": 98,
   "outputs": [],
   "source": [
    "month = 4\n",
    "url = \"https://sports.news.naver.com/kbaseball/schedule/index?date=20220927&month={}&year=2022&teamCode=\".format(month)\n",
    "df = pd.read_html(url)"
   ],
   "metadata": {
    "collapsed": false,
    "pycharm": {
     "name": "#%%\n"
    }
   }
  },
  {
   "cell_type": "code",
   "execution_count": 119,
   "outputs": [],
   "source": [
    "for i in range(1, len(df)-1): #제일 위에 column 목차가 df단위로 떨어져서 삭제하는걸로 함, 그리고 마지막 df는 <맨위로>키 정보가 있는 테이블이라 범위에 넣지 않음.\n",
    "    if df[i][2][0] == \"프로야구 경기가 없습니다.\":\n",
    "        continue\n",
    "    remain= df[i].loc[:, [0, 1, 2, 4, 5]]\n",
    "    remain.rename(columns={0:\"일자\", 1:\"시각\", 2:\"경기결과\", 4:\"중계사\", 5:\"구장\"} , inplace=True)\n",
    "    text = remain[\"일자\"][0]\n",
    "    remain.to_csv(\"./date/\"+text, header=True, encoding='UTF-8')"
   ],
   "metadata": {
    "collapsed": false,
    "pycharm": {
     "name": "#%%\n"
    }
   }
  },
  {
   "cell_type": "code",
   "execution_count": 221,
   "outputs": [
    {
     "name": "stdout",
     "output_type": "stream",
     "text": [
      "4 완료\n",
      "5 완료\n",
      "6 완료\n",
      "7 완료\n",
      "8 완료\n",
      "9 완료\n"
     ]
    }
   ],
   "source": [
    "for month in range(4, 10):\n",
    "    url = \"https://sports.news.naver.com/kbaseball/schedule/index?&month={}&year=2022&teamCode=\".format(month)\n",
    "    df = pd.read_html(url)\n",
    "    for i in range(1, len(df)-1): #제일 위에 column 목차가 df단위로 떨어져서 삭제하는걸로 함, 그리고 마지막 df는 <맨위로>키 정보가 있는 테이블이라 범위에 넣지 않음.\n",
    "        if df[i][2][0] == \"프로야구 경기가 없습니다.\":\n",
    "            continue\n",
    "        remain= df[i].loc[:, [0, 1, 2, 4, 5]]\n",
    "        remain.rename(columns={0:\"일자\", 1:\"시각\", 2:\"경기결과\", 4:\"중계사\", 5:\"구장\"} , inplace=True)\n",
    "        text = remain[\"일자\"][0].split()[0]\n",
    "        remain.to_csv(\"./date/\"+text+'.csv', header=True, encoding='UTF-8', index=False)\n",
    "    print(month, \"완료\")"
   ],
   "metadata": {
    "collapsed": false,
    "pycharm": {
     "name": "#%%\n"
    }
   }
  },
  {
   "cell_type": "markdown",
   "source": [
    "## DataFrame 에서 얻어낸 것\n",
    "1. 네이버는 https 프로토콜을 사용하므로 ssl때문에 certification 관련 추가 작업이 필요했음\n",
    "1-1. 따라서 terminal에 `pip install --upgrade certifi`를 추가적으로 작성함\n",
    "1-2. 그리고 Application > python 3.10 > install certifi 진행\n",
    "2. 네이버의 경우, 일정별로 깔끔하게 떨어져서 나옴\n",
    "3. 다만, 데이터프레임의 개수가 많이 나타남"
   ],
   "metadata": {
    "collapsed": false,
    "pycharm": {
     "name": "#%% md\n"
    }
   }
  },
  {
   "cell_type": "code",
   "execution_count": 222,
   "outputs": [
    {
     "data": {
      "text/plain": "     경기수  승리  무승부  패배\nLG     0   0    0   0\nKIA    0   0    0   0\nNC     0   0    0   0\nSSG    0   0    0   0\n한화     0   0    0   0\n두산     0   0    0   0\n키움     0   0    0   0\n삼성     0   0    0   0\nKT     0   0    0   0\n롯데     0   0    0   0",
      "text/html": "<div>\n<style scoped>\n    .dataframe tbody tr th:only-of-type {\n        vertical-align: middle;\n    }\n\n    .dataframe tbody tr th {\n        vertical-align: top;\n    }\n\n    .dataframe thead th {\n        text-align: right;\n    }\n</style>\n<table border=\"1\" class=\"dataframe\">\n  <thead>\n    <tr style=\"text-align: right;\">\n      <th></th>\n      <th>경기수</th>\n      <th>승리</th>\n      <th>무승부</th>\n      <th>패배</th>\n    </tr>\n  </thead>\n  <tbody>\n    <tr>\n      <th>LG</th>\n      <td>0</td>\n      <td>0</td>\n      <td>0</td>\n      <td>0</td>\n    </tr>\n    <tr>\n      <th>KIA</th>\n      <td>0</td>\n      <td>0</td>\n      <td>0</td>\n      <td>0</td>\n    </tr>\n    <tr>\n      <th>NC</th>\n      <td>0</td>\n      <td>0</td>\n      <td>0</td>\n      <td>0</td>\n    </tr>\n    <tr>\n      <th>SSG</th>\n      <td>0</td>\n      <td>0</td>\n      <td>0</td>\n      <td>0</td>\n    </tr>\n    <tr>\n      <th>한화</th>\n      <td>0</td>\n      <td>0</td>\n      <td>0</td>\n      <td>0</td>\n    </tr>\n    <tr>\n      <th>두산</th>\n      <td>0</td>\n      <td>0</td>\n      <td>0</td>\n      <td>0</td>\n    </tr>\n    <tr>\n      <th>키움</th>\n      <td>0</td>\n      <td>0</td>\n      <td>0</td>\n      <td>0</td>\n    </tr>\n    <tr>\n      <th>삼성</th>\n      <td>0</td>\n      <td>0</td>\n      <td>0</td>\n      <td>0</td>\n    </tr>\n    <tr>\n      <th>KT</th>\n      <td>0</td>\n      <td>0</td>\n      <td>0</td>\n      <td>0</td>\n    </tr>\n    <tr>\n      <th>롯데</th>\n      <td>0</td>\n      <td>0</td>\n      <td>0</td>\n      <td>0</td>\n    </tr>\n  </tbody>\n</table>\n</div>"
     },
     "execution_count": 222,
     "metadata": {},
     "output_type": "execute_result"
    }
   ],
   "source": [
    "start_data = {\"LG\":[0,0,0,0], \"KIA\":[0,0,0,0], \"NC\":[0,0,0,0], \"SSG\":[0,0,0,0], \"한화\":[0,0,0,0], \"두산\":[0,0,0,0],\"키움\":[0,0,0,0],\"삼성\":[0,0,0,0],\"KT\":[0,0,0,0], \"롯데\":[0,0,0,0]}\n",
    "KBO_team = pd.DataFrame(start_data, index= [\"경기수\", \"승리\", \"무승부\",\"패배\"])\n",
    "KBO_team = KBO_team.T\n",
    "KBO_team"
   ],
   "metadata": {
    "collapsed": false,
    "pycharm": {
     "name": "#%%\n"
    }
   }
  },
  {
   "cell_type": "code",
   "execution_count": 223,
   "outputs": [],
   "source": [
    "order_list = os.listdir(\"./date\")\n",
    "sorted_list = natsort.natsorted(order_list)"
   ],
   "metadata": {
    "collapsed": false,
    "pycharm": {
     "name": "#%%\n"
    }
   }
  },
  {
   "cell_type": "code",
   "execution_count": 224,
   "outputs": [],
   "source": [
    "for file in sorted_list:\n",
    "    data = pd.read_csv(\"./date/\" + file)\n",
    "    for i in data.index:\n",
    "        line = data.loc[i, :]\n",
    "\n",
    "        if len(line[2].split(\":\")) == 1:\n",
    "            continue\n",
    "\n",
    "        away, home = line[2].split(\":\")\n",
    "        home = home.split()\n",
    "        away = away.split()\n",
    "        h_score, h_team = home\n",
    "        a_team, a_score = away\n",
    "\n",
    "        if h_team == \"나눔\" or a_team == \"나눔\":\n",
    "            continue #올스타전 제외\n",
    "\n",
    "        #리팩토링은 항상 모두 완료하고나서 할 것\n",
    "        if h_score > a_score: #홈팀 승리\n",
    "            KBO_team.loc[h_team, [\"승리\"]] +=1\n",
    "            KBO_team.loc[a_team, [\"패배\"]] +=1\n",
    "        elif h_score < a_score:\n",
    "            KBO_team.loc[a_team, [\"승리\"]] +=1\n",
    "            KBO_team.loc[h_team, [\"패배\"]] +=1\n",
    "        else:\n",
    "            KBO_team.loc[h_team, [\"무승부\"]] +=1\n",
    "            KBO_team.loc[a_team, [\"무승부\"]] +=1"
   ],
   "metadata": {
    "collapsed": false,
    "pycharm": {
     "name": "#%%\n"
    }
   }
  },
  {
   "cell_type": "code",
   "execution_count": 225,
   "outputs": [
    {
     "data": {
      "text/plain": "     경기수  승리  무승부  패배\nSSG  137  85    4  48\n키움   139  77    2  60\nLG   132  69    2  61\nKT   135  69    2  64\n롯데   138  66    4  68\n삼성   135  65    2  68\nNC   133  64    3  66\nKIA  136  62    1  73\n두산   133  55    2  76\n한화   136  53    2  81",
      "text/html": "<div>\n<style scoped>\n    .dataframe tbody tr th:only-of-type {\n        vertical-align: middle;\n    }\n\n    .dataframe tbody tr th {\n        vertical-align: top;\n    }\n\n    .dataframe thead th {\n        text-align: right;\n    }\n</style>\n<table border=\"1\" class=\"dataframe\">\n  <thead>\n    <tr style=\"text-align: right;\">\n      <th></th>\n      <th>경기수</th>\n      <th>승리</th>\n      <th>무승부</th>\n      <th>패배</th>\n    </tr>\n  </thead>\n  <tbody>\n    <tr>\n      <th>SSG</th>\n      <td>137</td>\n      <td>85</td>\n      <td>4</td>\n      <td>48</td>\n    </tr>\n    <tr>\n      <th>키움</th>\n      <td>139</td>\n      <td>77</td>\n      <td>2</td>\n      <td>60</td>\n    </tr>\n    <tr>\n      <th>LG</th>\n      <td>132</td>\n      <td>69</td>\n      <td>2</td>\n      <td>61</td>\n    </tr>\n    <tr>\n      <th>KT</th>\n      <td>135</td>\n      <td>69</td>\n      <td>2</td>\n      <td>64</td>\n    </tr>\n    <tr>\n      <th>롯데</th>\n      <td>138</td>\n      <td>66</td>\n      <td>4</td>\n      <td>68</td>\n    </tr>\n    <tr>\n      <th>삼성</th>\n      <td>135</td>\n      <td>65</td>\n      <td>2</td>\n      <td>68</td>\n    </tr>\n    <tr>\n      <th>NC</th>\n      <td>133</td>\n      <td>64</td>\n      <td>3</td>\n      <td>66</td>\n    </tr>\n    <tr>\n      <th>KIA</th>\n      <td>136</td>\n      <td>62</td>\n      <td>1</td>\n      <td>73</td>\n    </tr>\n    <tr>\n      <th>두산</th>\n      <td>133</td>\n      <td>55</td>\n      <td>2</td>\n      <td>76</td>\n    </tr>\n    <tr>\n      <th>한화</th>\n      <td>136</td>\n      <td>53</td>\n      <td>2</td>\n      <td>81</td>\n    </tr>\n  </tbody>\n</table>\n</div>"
     },
     "execution_count": 225,
     "metadata": {},
     "output_type": "execute_result"
    }
   ],
   "source": [
    "KBO_team[\"경기수\"] = KBO_team[\"승리\"] + KBO_team[\"패배\"] + KBO_team[\"무승부\"]\n",
    "KBO_team.sort_values(by=\"승리\", inplace=True, ascending=False)\n",
    "KBO_team\n",
    "\n",
    "# 경기 수는 맞는데, 승리가 이상하게 집계됨\n",
    "# 원인은 아직 모르겠음"
   ],
   "metadata": {
    "collapsed": false,
    "pycharm": {
     "name": "#%%\n"
    }
   }
  },
  {
   "cell_type": "code",
   "execution_count": 232,
   "outputs": [
    {
     "data": {
      "text/plain": "     경기수  승리  무승부  패배\nSSG  137  86    4  47\nLG   132  81    2  49\n키움   139  78    2  59\nKT   135  74    2  59\nKIA  136  65    1  70\n롯데   138  61    4  73\nNC   133  60    3  70\n삼성   135  60    2  73\n두산   133  56    2  75\n한화   136  44    2  90",
      "text/html": "<div>\n<style scoped>\n    .dataframe tbody tr th:only-of-type {\n        vertical-align: middle;\n    }\n\n    .dataframe tbody tr th {\n        vertical-align: top;\n    }\n\n    .dataframe thead th {\n        text-align: right;\n    }\n</style>\n<table border=\"1\" class=\"dataframe\">\n  <thead>\n    <tr style=\"text-align: right;\">\n      <th></th>\n      <th>경기수</th>\n      <th>승리</th>\n      <th>무승부</th>\n      <th>패배</th>\n    </tr>\n  </thead>\n  <tbody>\n    <tr>\n      <th>SSG</th>\n      <td>137</td>\n      <td>86</td>\n      <td>4</td>\n      <td>47</td>\n    </tr>\n    <tr>\n      <th>LG</th>\n      <td>132</td>\n      <td>81</td>\n      <td>2</td>\n      <td>49</td>\n    </tr>\n    <tr>\n      <th>키움</th>\n      <td>139</td>\n      <td>78</td>\n      <td>2</td>\n      <td>59</td>\n    </tr>\n    <tr>\n      <th>KT</th>\n      <td>135</td>\n      <td>74</td>\n      <td>2</td>\n      <td>59</td>\n    </tr>\n    <tr>\n      <th>KIA</th>\n      <td>136</td>\n      <td>65</td>\n      <td>1</td>\n      <td>70</td>\n    </tr>\n    <tr>\n      <th>롯데</th>\n      <td>138</td>\n      <td>61</td>\n      <td>4</td>\n      <td>73</td>\n    </tr>\n    <tr>\n      <th>NC</th>\n      <td>133</td>\n      <td>60</td>\n      <td>3</td>\n      <td>70</td>\n    </tr>\n    <tr>\n      <th>삼성</th>\n      <td>135</td>\n      <td>60</td>\n      <td>2</td>\n      <td>73</td>\n    </tr>\n    <tr>\n      <th>두산</th>\n      <td>133</td>\n      <td>56</td>\n      <td>2</td>\n      <td>75</td>\n    </tr>\n    <tr>\n      <th>한화</th>\n      <td>136</td>\n      <td>44</td>\n      <td>2</td>\n      <td>90</td>\n    </tr>\n  </tbody>\n</table>\n</div>"
     },
     "execution_count": 232,
     "metadata": {},
     "output_type": "execute_result"
    }
   ],
   "source": [
    "ori_data  = {\"LG\":[132,81,2,49], \"KIA\":[136,65,1,70], \"NC\":[133,60,3,70], \"SSG\":[137,86,4,47], \"한화\":[136,44,2,90], \"두산\":[133,56,2,75],\"키움\":[139,78,2,59],\"삼성\":[135,60,2,73],\"KT\":[135,74,2,59], \"롯데\":[138,61,4,73]}\n",
    "\n",
    "ori_team = pd.DataFrame(ori_data, index= [\"경기수\", \"승리\", \"무승부\",\"패배\"])\n",
    "ori_team = ori_team.T\n",
    "ori_team.sort_values(by=\"승리\", inplace=True, ascending=False)\n",
    "ori_team"
   ],
   "metadata": {
    "collapsed": false,
    "pycharm": {
     "name": "#%%\n"
    }
   }
  },
  {
   "cell_type": "code",
   "execution_count": 233,
   "outputs": [
    {
     "data": {
      "text/plain": "     경기수  승리  무승부  패배\nKIA    0  -3    0   3\nKT     0  -5    0   5\nLG     0 -12    0  12\nNC     0   4    0  -4\nSSG    0  -1    0   1\n두산     0  -1    0   1\n롯데     0   5    0  -5\n삼성     0   5    0  -5\n키움     0  -1    0   1\n한화     0   9    0  -9",
      "text/html": "<div>\n<style scoped>\n    .dataframe tbody tr th:only-of-type {\n        vertical-align: middle;\n    }\n\n    .dataframe tbody tr th {\n        vertical-align: top;\n    }\n\n    .dataframe thead th {\n        text-align: right;\n    }\n</style>\n<table border=\"1\" class=\"dataframe\">\n  <thead>\n    <tr style=\"text-align: right;\">\n      <th></th>\n      <th>경기수</th>\n      <th>승리</th>\n      <th>무승부</th>\n      <th>패배</th>\n    </tr>\n  </thead>\n  <tbody>\n    <tr>\n      <th>KIA</th>\n      <td>0</td>\n      <td>-3</td>\n      <td>0</td>\n      <td>3</td>\n    </tr>\n    <tr>\n      <th>KT</th>\n      <td>0</td>\n      <td>-5</td>\n      <td>0</td>\n      <td>5</td>\n    </tr>\n    <tr>\n      <th>LG</th>\n      <td>0</td>\n      <td>-12</td>\n      <td>0</td>\n      <td>12</td>\n    </tr>\n    <tr>\n      <th>NC</th>\n      <td>0</td>\n      <td>4</td>\n      <td>0</td>\n      <td>-4</td>\n    </tr>\n    <tr>\n      <th>SSG</th>\n      <td>0</td>\n      <td>-1</td>\n      <td>0</td>\n      <td>1</td>\n    </tr>\n    <tr>\n      <th>두산</th>\n      <td>0</td>\n      <td>-1</td>\n      <td>0</td>\n      <td>1</td>\n    </tr>\n    <tr>\n      <th>롯데</th>\n      <td>0</td>\n      <td>5</td>\n      <td>0</td>\n      <td>-5</td>\n    </tr>\n    <tr>\n      <th>삼성</th>\n      <td>0</td>\n      <td>5</td>\n      <td>0</td>\n      <td>-5</td>\n    </tr>\n    <tr>\n      <th>키움</th>\n      <td>0</td>\n      <td>-1</td>\n      <td>0</td>\n      <td>1</td>\n    </tr>\n    <tr>\n      <th>한화</th>\n      <td>0</td>\n      <td>9</td>\n      <td>0</td>\n      <td>-9</td>\n    </tr>\n  </tbody>\n</table>\n</div>"
     },
     "execution_count": 233,
     "metadata": {},
     "output_type": "execute_result"
    }
   ],
   "source": [
    "KBO_team - ori_team\n",
    "# 원본 데이터는 문제가 없음.\n",
    "# 직접 수기로 세아린 결과, 정확히 똑같은 승리를 세아림\n",
    "# 크롤링 한 것도 확인해봤는데, 문제 없었음.\n",
    "# 아마 승, 패 넣는 과정에서 오류 생긴 것으로 보임"
   ],
   "metadata": {
    "collapsed": false,
    "pycharm": {
     "name": "#%%\n"
    }
   }
  },
  {
   "cell_type": "code",
   "execution_count": null,
   "outputs": [],
   "source": [],
   "metadata": {
    "collapsed": false,
    "pycharm": {
     "name": "#%%\n"
    }
   }
  }
 ],
 "metadata": {
  "kernelspec": {
   "display_name": "Python 3",
   "language": "python",
   "name": "python3"
  },
  "language_info": {
   "codemirror_mode": {
    "name": "ipython",
    "version": 2
   },
   "file_extension": ".py",
   "mimetype": "text/x-python",
   "name": "python",
   "nbconvert_exporter": "python",
   "pygments_lexer": "ipython2",
   "version": "2.7.6"
  }
 },
 "nbformat": 4,
 "nbformat_minor": 0
}