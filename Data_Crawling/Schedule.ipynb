{
 "cells": [
  {
   "cell_type": "markdown",
   "source": [
    "## 금주 목표\n",
    "### 이번 시즌 팀 순위 시각화"
   ],
   "metadata": {
    "collapsed": false,
    "pycharm": {
     "name": "#%% md\n"
    }
   }
  },
  {
   "cell_type": "code",
   "execution_count": 1,
   "outputs": [],
   "source": [
    "import natsort as natsort\n",
    "import pandas as pd\n",
    "import os\n",
    "import natsort\n",
    "from datetime import date, datetime\n",
    "import matplotlib.pyplot as plt\n",
    "#from IPython.core.display_functions import display\n"
   ],
   "metadata": {
    "collapsed": false,
    "pycharm": {
     "name": "#%%\n"
    }
   }
  },
  {
   "cell_type": "code",
   "execution_count": 2,
   "outputs": [],
   "source": [
    "team_list = [\"LG\", \"SSG\", \"KT\", \"NC\", \"두산\", \"키움\", \"한화\", \"KIA\", \"삼성\", \"롯데\"]"
   ],
   "metadata": {
    "collapsed": false,
    "pycharm": {
     "name": "#%%\n"
    }
   }
  },
  {
   "cell_type": "code",
   "execution_count": 3,
   "outputs": [
    {
     "name": "stdout",
     "output_type": "stream",
     "text": [
      "4 완료\n",
      "5 완료\n",
      "6 완료\n",
      "7 완료\n",
      "8 완료\n",
      "9 완료\n"
     ]
    }
   ],
   "source": [
    "for month in range(4, 10):\n",
    "    url = \"https://sports.news.naver.com/kbaseball/schedule/index?&month={}&year=2022&teamCode=\".format(month)\n",
    "    df = pd.read_html(url)\n",
    "    for i in range(1, len(df)-1): #제일 위에 column 목차가 df단위로 떨어져서 삭제하는걸로 함, 그리고 마지막 df는 <맨위로>키 정보가 있는 테이블이라 범위에 넣지 않음.\n",
    "        if df[i][2][0] == \"프로야구 경기가 없습니다.\":\n",
    "            continue\n",
    "        remain= df[i].loc[:, [0, 1, 2, 4, 5]]\n",
    "        remain.rename(columns={0:\"일자\", 1:\"시각\", 2:\"경기결과\", 4:\"중계사\", 5:\"구장\"} , inplace=True)\n",
    "        text = remain[\"일자\"][0].split()[0]\n",
    "        remain[\"일자\"] = text\n",
    "        remain.to_csv(\"./date/\"+text+'.csv', header=True, encoding='UTF-8', index=False)\n",
    "    print(month, \"완료\")"
   ],
   "metadata": {
    "collapsed": false,
    "pycharm": {
     "name": "#%%\n"
    }
   }
  },
  {
   "cell_type": "markdown",
   "source": [
    "## DataFrame 에서 얻어낸 것\n",
    "1. 네이버는 https 프로토콜을 사용하므로 ssl때문에 certification 관련 추가 작업이 필요했음\n",
    "1-1. 따라서 terminal에 `pip install --upgrade certifi`를 추가적으로 작성함\n",
    "1-2. 그리고 Application > python 3.10 > install certifi 진행\n",
    "2. 네이버의 경우, 일정별로 깔끔하게 떨어져서 나옴\n",
    "3. 다만, 데이터프레임의 개수가 많이 나타남\n",
    "\n",
    "## 게임차 계산방법\n",
    "```\n",
    "팀 게임 승점 = (전체경기수 - 진행된 경기수)*0.5 + 승리 수 + 무승부*0.5\n",
    "1위 승점 - 현재 팀 승점\n",
    "```\n",
    "- 패배를 왜 뺐나 했는데, 정말로 게임차 계산할 때 패배는 들어가지 않음.\n",
    "- 실제로도 승리랑 무승부 가지고 판단함"
   ],
   "metadata": {
    "collapsed": false,
    "pycharm": {
     "name": "#%% md\n"
    }
   }
  },
  {
   "cell_type": "code",
   "execution_count": 4,
   "outputs": [
    {
     "data": {
      "text/plain": "     경기수  승리  무승부  패배\nLG     0   0    0   0\nKIA    0   0    0   0\nNC     0   0    0   0\nSSG    0   0    0   0\n한화     0   0    0   0\n두산     0   0    0   0\n키움     0   0    0   0\n삼성     0   0    0   0\nKT     0   0    0   0\n롯데     0   0    0   0",
      "text/html": "<div>\n<style scoped>\n    .dataframe tbody tr th:only-of-type {\n        vertical-align: middle;\n    }\n\n    .dataframe tbody tr th {\n        vertical-align: top;\n    }\n\n    .dataframe thead th {\n        text-align: right;\n    }\n</style>\n<table border=\"1\" class=\"dataframe\">\n  <thead>\n    <tr style=\"text-align: right;\">\n      <th></th>\n      <th>경기수</th>\n      <th>승리</th>\n      <th>무승부</th>\n      <th>패배</th>\n    </tr>\n  </thead>\n  <tbody>\n    <tr>\n      <th>LG</th>\n      <td>0</td>\n      <td>0</td>\n      <td>0</td>\n      <td>0</td>\n    </tr>\n    <tr>\n      <th>KIA</th>\n      <td>0</td>\n      <td>0</td>\n      <td>0</td>\n      <td>0</td>\n    </tr>\n    <tr>\n      <th>NC</th>\n      <td>0</td>\n      <td>0</td>\n      <td>0</td>\n      <td>0</td>\n    </tr>\n    <tr>\n      <th>SSG</th>\n      <td>0</td>\n      <td>0</td>\n      <td>0</td>\n      <td>0</td>\n    </tr>\n    <tr>\n      <th>한화</th>\n      <td>0</td>\n      <td>0</td>\n      <td>0</td>\n      <td>0</td>\n    </tr>\n    <tr>\n      <th>두산</th>\n      <td>0</td>\n      <td>0</td>\n      <td>0</td>\n      <td>0</td>\n    </tr>\n    <tr>\n      <th>키움</th>\n      <td>0</td>\n      <td>0</td>\n      <td>0</td>\n      <td>0</td>\n    </tr>\n    <tr>\n      <th>삼성</th>\n      <td>0</td>\n      <td>0</td>\n      <td>0</td>\n      <td>0</td>\n    </tr>\n    <tr>\n      <th>KT</th>\n      <td>0</td>\n      <td>0</td>\n      <td>0</td>\n      <td>0</td>\n    </tr>\n    <tr>\n      <th>롯데</th>\n      <td>0</td>\n      <td>0</td>\n      <td>0</td>\n      <td>0</td>\n    </tr>\n  </tbody>\n</table>\n</div>"
     },
     "execution_count": 4,
     "metadata": {},
     "output_type": "execute_result"
    }
   ],
   "source": [
    "start_data = {\"LG\":[0,0,0,0],\n",
    "              \"KIA\":[0,0,0,0],\n",
    "              \"NC\":[0,0,0,0],\n",
    "              \"SSG\":[0,0,0,0],\n",
    "              \"한화\":[0,0,0,0],\n",
    "              \"두산\":[0,0,0,0],\n",
    "              \"키움\":[0,0,0,0],\n",
    "              \"삼성\":[0,0,0,0],\n",
    "              \"KT\":[0,0,0,0],\n",
    "              \"롯데\":[0,0,0,0]}\n",
    "KBO_team = pd.DataFrame(start_data, index= [\"경기수\", \"승리\", \"무승부\",\"패배\"])\n",
    "KBO_team = KBO_team.T\n",
    "KBO_team"
   ],
   "metadata": {
    "collapsed": false,
    "pycharm": {
     "name": "#%%\n"
    }
   }
  },
  {
   "cell_type": "code",
   "execution_count": 5,
   "outputs": [
    {
     "data": {
      "text/plain": "['4.2.csv',\n '4.3.csv',\n '4.5.csv',\n '4.6.csv',\n '4.7.csv',\n '4.8.csv',\n '4.9.csv',\n '4.10.csv',\n '4.12.csv',\n '4.13.csv',\n '4.14.csv',\n '4.15.csv',\n '4.16.csv',\n '4.17.csv',\n '4.19.csv',\n '4.20.csv',\n '4.21.csv',\n '4.22.csv',\n '4.23.csv',\n '4.24.csv',\n '4.26.csv',\n '4.27.csv',\n '4.28.csv',\n '4.29.csv',\n '4.30.csv',\n '5.1.csv',\n '5.3.csv',\n '5.4.csv',\n '5.5.csv',\n '5.6.csv',\n '5.7.csv',\n '5.8.csv',\n '5.10.csv',\n '5.11.csv',\n '5.12.csv',\n '5.13.csv',\n '5.14.csv',\n '5.15.csv',\n '5.17.csv',\n '5.18.csv',\n '5.19.csv',\n '5.20.csv',\n '5.21.csv',\n '5.22.csv',\n '5.24.csv',\n '5.25.csv',\n '5.26.csv',\n '5.27.csv',\n '5.28.csv',\n '5.29.csv',\n '5.31.csv',\n '6.1.csv',\n '6.2.csv',\n '6.3.csv',\n '6.4.csv',\n '6.5.csv',\n '6.7.csv',\n '6.8.csv',\n '6.9.csv',\n '6.10.csv',\n '6.11.csv',\n '6.12.csv',\n '6.14.csv',\n '6.15.csv',\n '6.16.csv',\n '6.17.csv',\n '6.18.csv',\n '6.19.csv',\n '6.21.csv',\n '6.22.csv',\n '6.23.csv',\n '6.24.csv',\n '6.25.csv',\n '6.26.csv',\n '6.28.csv',\n '6.29.csv',\n '6.30.csv',\n '7.1.csv',\n '7.2.csv',\n '7.3.csv',\n '7.5.csv',\n '7.6.csv',\n '7.7.csv',\n '7.8.csv',\n '7.9.csv',\n '7.10.csv',\n '7.12.csv',\n '7.13.csv',\n '7.14.csv',\n '7.16.csv',\n '7.22.csv',\n '7.23.csv',\n '7.24.csv',\n '7.26.csv',\n '7.27.csv',\n '7.28.csv',\n '7.29.csv',\n '7.30.csv',\n '7.31.csv',\n '8.2.csv',\n '8.3.csv',\n '8.4.csv',\n '8.5.csv',\n '8.6.csv',\n '8.7.csv',\n '8.10.csv',\n '8.11.csv',\n '8.12.csv',\n '8.13.csv',\n '8.14.csv',\n '8.16.csv',\n '8.17.csv',\n '8.18.csv',\n '8.19.csv',\n '8.20.csv',\n '8.21.csv',\n '8.23.csv',\n '8.24.csv',\n '8.25.csv',\n '8.26.csv',\n '8.27.csv',\n '8.28.csv',\n '8.30.csv',\n '8.31.csv',\n '9.1.csv',\n '9.2.csv',\n '9.3.csv',\n '9.4.csv',\n '9.6.csv',\n '9.7.csv',\n '9.8.csv',\n '9.9.csv',\n '9.10.csv',\n '9.11.csv',\n '9.13.csv',\n '9.14.csv',\n '9.15.csv',\n '9.16.csv',\n '9.17.csv',\n '9.18.csv',\n '9.20.csv',\n '9.21.csv',\n '9.22.csv',\n '9.23.csv',\n '9.24.csv',\n '9.25.csv',\n '9.27.csv',\n '9.28.csv',\n '9.29.csv',\n '9.30.csv',\n '.DS_Store']"
     },
     "execution_count": 5,
     "metadata": {},
     "output_type": "execute_result"
    }
   ],
   "source": [
    "order_list = os.listdir(\"./date\")\n",
    "sorted_list = natsort.natsorted(order_list)\n",
    "sorted_list"
   ],
   "metadata": {
    "collapsed": false,
    "pycharm": {
     "name": "#%%\n"
    }
   }
  },
  {
   "cell_type": "code",
   "execution_count": 6,
   "outputs": [],
   "source": [
    "for file in sorted_list:\n",
    "    data = pd.read_csv(\"./date/\" + file)\n",
    "    for i in data.index:\n",
    "        line = data.loc[i, :]\n",
    "\n",
    "        if len(line[2].split(\":\")) == 1:\n",
    "            continue\n",
    "\n",
    "        away, home = line[2].split(\":\")\n",
    "        home = home.split()\n",
    "        away = away.split()\n",
    "        h_score, h_team = home\n",
    "        a_team, a_score = away\n",
    "        h_score = int(h_score)\n",
    "        a_score = int(a_score)\n",
    "\n",
    "        if h_team == \"나눔\" or a_team == \"나눔\":\n",
    "            continue #올스타전 제외\n",
    "\n",
    "        #리팩토링은 항상 모두 완료하고나서 할 것\n",
    "        if h_score > a_score: #홈팀 승리\n",
    "            KBO_team.loc[h_team, [\"승리\"]] +=1\n",
    "            KBO_team.loc[a_team, [\"패배\"]] +=1\n",
    "        elif h_score < a_score:\n",
    "            KBO_team.loc[a_team, [\"승리\"]] +=1\n",
    "            KBO_team.loc[h_team, [\"패배\"]] +=1\n",
    "        else:\n",
    "            KBO_team.loc[h_team, [\"무승부\"]] +=1\n",
    "            KBO_team.loc[a_team, [\"무승부\"]] +=1\n",
    "\n",
    "        #경기수 구하기\n",
    "        KBO_team[\"경기수\"] = KBO_team[\"승리\"] + KBO_team[\"패배\"] + KBO_team[\"무승부\"]\n",
    "\n",
    "        #게임차 구하기\n",
    "        KBO_team[\"승점\"] = (144-KBO_team[\"경기수\"])*0.5 + KBO_team[\"승리\"] + KBO_team[\"무승부\"]*0.5\n",
    "        KBO_team.sort_values(by=\"승점\", inplace=True, ascending=False)\n",
    "        top = KBO_team[\"승점\"][0]\n",
    "        KBO_team[\"게임차\"] = top - KBO_team[\"승점\"]\n",
    "        KBO_team.sort_values(by=\"승점\", ascending=False, inplace=True)\n",
    "\n",
    "        KBO_team[\"순위\"] = [1,2,3,4,5,6,7,8,9,10]\n",
    "\n",
    "        KBO_team.to_csv(\"./date_rank/\"+file, header=True, encoding=\"UTF-8\", index=True)\n",
    "#원인찾았다. 이거 숫자가 문자열로 되어있어서 그랬음"
   ],
   "metadata": {
    "collapsed": false,
    "pycharm": {
     "name": "#%%\n"
    }
   }
  },
  {
   "cell_type": "code",
   "execution_count": 7,
   "outputs": [
    {
     "data": {
      "text/plain": "     경기수  승리  무승부  패배    승점   게임차  순위\nSSG  138  86    4  48  91.0   0.0   1\nLG   135  83    2  50  88.5   2.5   2\n키움   141  79    2  60  81.5   9.5   3\nKT   138  77    2  59  81.0  10.0   4\nKIA  137  66    1  70  70.0  21.0   5\nNC   136  62    3  71  67.5  23.5   6\n롯데   139  61    4  74  65.5  25.5   7\n삼성   137  61    2  74  65.5  25.5   8\n두산   136  57    2  77  62.0  29.0   9\n한화   139  44    2  93  47.5  43.5  10",
      "text/html": "<div>\n<style scoped>\n    .dataframe tbody tr th:only-of-type {\n        vertical-align: middle;\n    }\n\n    .dataframe tbody tr th {\n        vertical-align: top;\n    }\n\n    .dataframe thead th {\n        text-align: right;\n    }\n</style>\n<table border=\"1\" class=\"dataframe\">\n  <thead>\n    <tr style=\"text-align: right;\">\n      <th></th>\n      <th>경기수</th>\n      <th>승리</th>\n      <th>무승부</th>\n      <th>패배</th>\n      <th>승점</th>\n      <th>게임차</th>\n      <th>순위</th>\n    </tr>\n  </thead>\n  <tbody>\n    <tr>\n      <th>SSG</th>\n      <td>138</td>\n      <td>86</td>\n      <td>4</td>\n      <td>48</td>\n      <td>91.0</td>\n      <td>0.0</td>\n      <td>1</td>\n    </tr>\n    <tr>\n      <th>LG</th>\n      <td>135</td>\n      <td>83</td>\n      <td>2</td>\n      <td>50</td>\n      <td>88.5</td>\n      <td>2.5</td>\n      <td>2</td>\n    </tr>\n    <tr>\n      <th>키움</th>\n      <td>141</td>\n      <td>79</td>\n      <td>2</td>\n      <td>60</td>\n      <td>81.5</td>\n      <td>9.5</td>\n      <td>3</td>\n    </tr>\n    <tr>\n      <th>KT</th>\n      <td>138</td>\n      <td>77</td>\n      <td>2</td>\n      <td>59</td>\n      <td>81.0</td>\n      <td>10.0</td>\n      <td>4</td>\n    </tr>\n    <tr>\n      <th>KIA</th>\n      <td>137</td>\n      <td>66</td>\n      <td>1</td>\n      <td>70</td>\n      <td>70.0</td>\n      <td>21.0</td>\n      <td>5</td>\n    </tr>\n    <tr>\n      <th>NC</th>\n      <td>136</td>\n      <td>62</td>\n      <td>3</td>\n      <td>71</td>\n      <td>67.5</td>\n      <td>23.5</td>\n      <td>6</td>\n    </tr>\n    <tr>\n      <th>롯데</th>\n      <td>139</td>\n      <td>61</td>\n      <td>4</td>\n      <td>74</td>\n      <td>65.5</td>\n      <td>25.5</td>\n      <td>7</td>\n    </tr>\n    <tr>\n      <th>삼성</th>\n      <td>137</td>\n      <td>61</td>\n      <td>2</td>\n      <td>74</td>\n      <td>65.5</td>\n      <td>25.5</td>\n      <td>8</td>\n    </tr>\n    <tr>\n      <th>두산</th>\n      <td>136</td>\n      <td>57</td>\n      <td>2</td>\n      <td>77</td>\n      <td>62.0</td>\n      <td>29.0</td>\n      <td>9</td>\n    </tr>\n    <tr>\n      <th>한화</th>\n      <td>139</td>\n      <td>44</td>\n      <td>2</td>\n      <td>93</td>\n      <td>47.5</td>\n      <td>43.5</td>\n      <td>10</td>\n    </tr>\n  </tbody>\n</table>\n</div>"
     },
     "execution_count": 7,
     "metadata": {},
     "output_type": "execute_result"
    }
   ],
   "source": [
    "KBO_team"
   ],
   "metadata": {
    "collapsed": false,
    "pycharm": {
     "name": "#%%\n"
    }
   }
  },
  {
   "cell_type": "markdown",
   "source": [
    "## 시각화 진행할 것"
   ],
   "metadata": {
    "collapsed": false,
    "pycharm": {
     "name": "#%% md\n"
    }
   }
  },
  {
   "cell_type": "code",
   "execution_count": 8,
   "outputs": [
    {
     "name": "stdout",
     "output_type": "stream",
     "text": [
      "['4.2.csv', '4.3.csv', '4.5.csv', '4.6.csv', '4.7.csv', '4.8.csv', '4.9.csv', '4.10.csv', '4.12.csv', '4.13.csv', '4.14.csv', '4.15.csv', '4.16.csv', '4.17.csv', '4.19.csv', '4.20.csv', '4.21.csv', '4.22.csv', '4.23.csv', '4.24.csv', '4.26.csv', '4.27.csv', '4.28.csv', '4.29.csv', '4.30.csv', '5.1.csv', '5.3.csv', '5.4.csv', '5.5.csv', '5.6.csv', '5.7.csv', '5.8.csv', '5.10.csv', '5.11.csv', '5.12.csv', '5.13.csv', '5.14.csv', '5.15.csv', '5.17.csv', '5.18.csv', '5.19.csv', '5.20.csv', '5.21.csv', '5.22.csv', '5.24.csv', '5.25.csv', '5.26.csv', '5.27.csv', '5.28.csv', '5.29.csv', '5.31.csv', '6.1.csv', '6.2.csv', '6.3.csv', '6.4.csv', '6.5.csv', '6.7.csv', '6.8.csv', '6.9.csv', '6.10.csv', '6.11.csv', '6.12.csv', '6.14.csv', '6.15.csv', '6.16.csv', '6.17.csv', '6.18.csv', '6.19.csv', '6.21.csv', '6.22.csv', '6.23.csv', '6.24.csv', '6.25.csv', '6.26.csv', '6.28.csv', '6.29.csv', '6.30.csv', '7.1.csv', '7.2.csv', '7.3.csv', '7.5.csv', '7.6.csv', '7.7.csv', '7.8.csv', '7.9.csv', '7.10.csv', '7.12.csv', '7.13.csv', '7.14.csv', '7.16.csv', '7.22.csv', '7.23.csv', '7.24.csv', '7.26.csv', '7.27.csv', '7.28.csv', '7.29.csv', '7.30.csv', '7.31.csv', '8.2.csv', '8.3.csv', '8.4.csv', '8.5.csv', '8.6.csv', '8.7.csv', '8.10.csv', '8.11.csv', '8.12.csv', '8.13.csv', '8.14.csv', '8.16.csv', '8.17.csv', '8.18.csv', '8.19.csv', '8.20.csv', '8.21.csv', '8.23.csv', '8.24.csv', '8.25.csv', '8.26.csv', '8.27.csv', '8.28.csv', '8.30.csv', '8.31.csv', '9.1.csv', '9.2.csv', '9.3.csv', '9.4.csv', '9.6.csv', '9.7.csv', '9.8.csv', '9.9.csv', '9.10.csv', '9.11.csv', '9.13.csv', '9.14.csv', '9.15.csv', '9.16.csv', '9.17.csv', '9.18.csv', '9.20.csv', '9.21.csv', '9.22.csv', '9.23.csv', '9.24.csv', '9.25.csv', '9.27.csv', '9.28.csv', '9.29.csv', '9.30.csv', '.DS_Store']\n"
     ]
    }
   ],
   "source": [
    "rank_list = os.listdir(\"./date_rank\")\n",
    "sorted_rank = natsort.natsorted(order_list)\n",
    "print(sorted_rank)"
   ],
   "metadata": {
    "collapsed": false,
    "pycharm": {
     "name": "#%%\n"
    }
   }
  },
  {
   "cell_type": "code",
   "execution_count": 9,
   "outputs": [
    {
     "data": {
      "text/plain": "   경기수  승리  무승부  패배    승점  게임차  순위         일자\n0   22  13    0   9  74.0  4.5   3 2022-04-27",
      "text/html": "<div>\n<style scoped>\n    .dataframe tbody tr th:only-of-type {\n        vertical-align: middle;\n    }\n\n    .dataframe tbody tr th {\n        vertical-align: top;\n    }\n\n    .dataframe thead th {\n        text-align: right;\n    }\n</style>\n<table border=\"1\" class=\"dataframe\">\n  <thead>\n    <tr style=\"text-align: right;\">\n      <th></th>\n      <th>경기수</th>\n      <th>승리</th>\n      <th>무승부</th>\n      <th>패배</th>\n      <th>승점</th>\n      <th>게임차</th>\n      <th>순위</th>\n      <th>일자</th>\n    </tr>\n  </thead>\n  <tbody>\n    <tr>\n      <th>0</th>\n      <td>22</td>\n      <td>13</td>\n      <td>0</td>\n      <td>9</td>\n      <td>74.0</td>\n      <td>4.5</td>\n      <td>3</td>\n      <td>2022-04-27</td>\n    </tr>\n  </tbody>\n</table>\n</div>"
     },
     "execution_count": 9,
     "metadata": {},
     "output_type": "execute_result"
    }
   ],
   "source": [
    "test_df = pd.read_csv(\"./date_rank/\"+sorted_rank[21], index_col=0)\n",
    "date = sorted_rank[21].replace(\".csv\", '')\n",
    "test_date = datetime.strptime(\"2022.\"+date, '%Y.%m.%d')\n",
    "test_df[\"일자\"] = test_date\n",
    "test_list = list(test_df.loc[\"LG\", :])\n",
    "LG_result = pd.DataFrame(columns=[\"경기수\", \"승리\", \"무승부\", \"패배\",\"승점\", \"게임차\", \"순위\", \"일자\"])\n",
    "LG_result.loc[len(LG_result)] = test_list\n",
    "\n",
    "LG_result"
   ],
   "metadata": {
    "collapsed": false,
    "pycharm": {
     "name": "#%%\n"
    }
   }
  },
  {
   "cell_type": "code",
   "execution_count": 64,
   "outputs": [],
   "source": [
    "LG_result = pd.DataFrame(columns=[\"경기수\", \"승리\", \"무승부\", \"패배\",\"승점\", \"게임차\", \"순위\", \"일자\"])\n",
    "KIA_result = pd.DataFrame(columns=[\"경기수\", \"승리\", \"무승부\", \"패배\",\"승점\", \"게임차\", \"순위\", \"일자\"])\n",
    "KT_result = pd.DataFrame(columns=[\"경기수\", \"승리\", \"무승부\", \"패배\",\"승점\", \"게임차\", \"순위\", \"일자\"])\n",
    "SSG_result = pd.DataFrame(columns=[\"경기수\", \"승리\", \"무승부\", \"패배\",\"승점\", \"게임차\", \"순위\", \"일자\"])\n",
    "NC_result = pd.DataFrame(columns=[\"경기수\", \"승리\", \"무승부\", \"패배\",\"승점\", \"게임차\", \"순위\", \"일자\"])\n"
   ],
   "metadata": {
    "collapsed": false,
    "pycharm": {
     "name": "#%%\n"
    }
   }
  },
  {
   "cell_type": "code",
   "execution_count": 65,
   "outputs": [
    {
     "data": {
      "text/plain": "     경기수  승리  무승부  패배    승점  게임차  순위         일자\n0      6   5    0   1  74.0  1.0   2 2022-04-08\n1      7   6    0   1  74.5  1.0   2 2022-04-09\n2      8   7    0   1  75.0  1.0   2 2022-04-10\n3      9   7    0   2  74.5  2.0   2 2022-04-12\n4     10   7    0   3  74.0  3.0   2 2022-04-13\n..   ...  ..  ...  ..   ...  ...  ..        ...\n140  132  81    2  49  88.0  3.5   2 2022-09-25\n141  133  82    2  49  88.5  3.0   2 2022-09-27\n142  134  83    2  49  89.0  2.5   2 2022-09-28\n143  135  83    2  50  88.5  2.5   2 2022-09-29\n144  135  83    2  50  88.5  2.5   2 2022-09-30\n\n[145 rows x 8 columns]",
      "text/html": "<div>\n<style scoped>\n    .dataframe tbody tr th:only-of-type {\n        vertical-align: middle;\n    }\n\n    .dataframe tbody tr th {\n        vertical-align: top;\n    }\n\n    .dataframe thead th {\n        text-align: right;\n    }\n</style>\n<table border=\"1\" class=\"dataframe\">\n  <thead>\n    <tr style=\"text-align: right;\">\n      <th></th>\n      <th>경기수</th>\n      <th>승리</th>\n      <th>무승부</th>\n      <th>패배</th>\n      <th>승점</th>\n      <th>게임차</th>\n      <th>순위</th>\n      <th>일자</th>\n    </tr>\n  </thead>\n  <tbody>\n    <tr>\n      <th>0</th>\n      <td>6</td>\n      <td>5</td>\n      <td>0</td>\n      <td>1</td>\n      <td>74.0</td>\n      <td>1.0</td>\n      <td>2</td>\n      <td>2022-04-08</td>\n    </tr>\n    <tr>\n      <th>1</th>\n      <td>7</td>\n      <td>6</td>\n      <td>0</td>\n      <td>1</td>\n      <td>74.5</td>\n      <td>1.0</td>\n      <td>2</td>\n      <td>2022-04-09</td>\n    </tr>\n    <tr>\n      <th>2</th>\n      <td>8</td>\n      <td>7</td>\n      <td>0</td>\n      <td>1</td>\n      <td>75.0</td>\n      <td>1.0</td>\n      <td>2</td>\n      <td>2022-04-10</td>\n    </tr>\n    <tr>\n      <th>3</th>\n      <td>9</td>\n      <td>7</td>\n      <td>0</td>\n      <td>2</td>\n      <td>74.5</td>\n      <td>2.0</td>\n      <td>2</td>\n      <td>2022-04-12</td>\n    </tr>\n    <tr>\n      <th>4</th>\n      <td>10</td>\n      <td>7</td>\n      <td>0</td>\n      <td>3</td>\n      <td>74.0</td>\n      <td>3.0</td>\n      <td>2</td>\n      <td>2022-04-13</td>\n    </tr>\n    <tr>\n      <th>...</th>\n      <td>...</td>\n      <td>...</td>\n      <td>...</td>\n      <td>...</td>\n      <td>...</td>\n      <td>...</td>\n      <td>...</td>\n      <td>...</td>\n    </tr>\n    <tr>\n      <th>140</th>\n      <td>132</td>\n      <td>81</td>\n      <td>2</td>\n      <td>49</td>\n      <td>88.0</td>\n      <td>3.5</td>\n      <td>2</td>\n      <td>2022-09-25</td>\n    </tr>\n    <tr>\n      <th>141</th>\n      <td>133</td>\n      <td>82</td>\n      <td>2</td>\n      <td>49</td>\n      <td>88.5</td>\n      <td>3.0</td>\n      <td>2</td>\n      <td>2022-09-27</td>\n    </tr>\n    <tr>\n      <th>142</th>\n      <td>134</td>\n      <td>83</td>\n      <td>2</td>\n      <td>49</td>\n      <td>89.0</td>\n      <td>2.5</td>\n      <td>2</td>\n      <td>2022-09-28</td>\n    </tr>\n    <tr>\n      <th>143</th>\n      <td>135</td>\n      <td>83</td>\n      <td>2</td>\n      <td>50</td>\n      <td>88.5</td>\n      <td>2.5</td>\n      <td>2</td>\n      <td>2022-09-29</td>\n    </tr>\n    <tr>\n      <th>144</th>\n      <td>135</td>\n      <td>83</td>\n      <td>2</td>\n      <td>50</td>\n      <td>88.5</td>\n      <td>2.5</td>\n      <td>2</td>\n      <td>2022-09-30</td>\n    </tr>\n  </tbody>\n</table>\n<p>145 rows × 8 columns</p>\n</div>"
     },
     "execution_count": 65,
     "metadata": {},
     "output_type": "execute_result"
    }
   ],
   "source": [
    "for file in sorted_rank[5:]: #LG case 먼저 만들어보기\n",
    "    if file == \".DS_Store\":\n",
    "        continue\n",
    "    date = datetime.strptime(\"2022.\"+file.replace(\".csv\", ''), '%Y.%m.%d')\n",
    "    test_df = pd.read_csv(\"./date_rank/\" + file, index_col=0)\n",
    "    test_df[\"일자\"] = date\n",
    "    #무식한 방법이라 꼭 리팩토링 해놓으셔\n",
    "    LG = list(test_df.loc[\"LG\", :])\n",
    "    KIA = list(test_df.loc[\"KIA\", :])\n",
    "    NC = list(test_df.loc[\"NC\", :])\n",
    "    SSG = list(test_df.loc[\"SSG\", :])\n",
    "    KT = list(test_df.loc[\"KT\", :])\n",
    "\n",
    "    LG_result.loc[len(LG_result)] = LG\n",
    "    KIA_result.loc[len(KIA_result)] = KIA\n",
    "    NC_result.loc[len(NC_result)] = NC\n",
    "    SSG_result.loc[len(SSG_result)] = SSG\n",
    "    KT_result.loc[len(KT_result)] = KT\n",
    "\n",
    "LG_result"
   ],
   "metadata": {
    "collapsed": false,
    "pycharm": {
     "name": "#%%\n"
    }
   }
  },
  {
   "cell_type": "code",
   "execution_count": 72,
   "outputs": [
    {
     "data": {
      "text/plain": "[<matplotlib.lines.Line2D at 0x145a15b40>]"
     },
     "execution_count": 72,
     "metadata": {},
     "output_type": "execute_result"
    },
    {
     "data": {
      "text/plain": "<Figure size 1500x500 with 1 Axes>",
      "image/png": "[encoded data removed]"
     },
     "metadata": {},
     "output_type": "display_data"
    }
   ],
   "source": [
    "plt.figure(figsize=(15,5))\n",
    "plt.gca().invert_yaxis()\n",
    "plt.plot(LG_result[\"일자\"], LG_result[\"순위\"], color=\"#cf0c53\")\n",
    "plt.plot(KT_result[\"일자\"], KT_result[\"순위\"], color=\"k\")\n",
    "plt.plot(KIA_result[\"일자\"], KIA_result[\"순위\"], color=\"#ff0000\")\n",
    "plt.plot(NC_result[\"일자\"], NC_result[\"순위\"])\n",
    "plt.plot(SSG_result[\"일자\"], SSG_result[\"순위\"], color=\"#fff000\")"
   ],
   "metadata": {
    "collapsed": false,
    "pycharm": {
     "name": "#%%\n"
    }
   }
  },
  {
   "cell_type": "code",
   "execution_count": null,
   "outputs": [],
   "source": [],
   "metadata": {
    "collapsed": false,
    "pycharm": {
     "name": "#%%\n"
    }
   }
  }
 ],
 "metadata": {
  "kernelspec": {
   "display_name": "Python 3",
   "language": "python",
   "name": "python3"
  },
  "language_info": {
   "codemirror_mode": {
    "name": "ipython",
    "version": 2
   },
   "file_extension": ".py",
   "mimetype": "text/x-python",
   "name": "python",
   "nbconvert_exporter": "python",
   "pygments_lexer": "ipython2",
   "version": "2.7.6"
  },
  "colab": {
   "provenance": []
  }
 },
 "nbformat": 4,
 "nbformat_minor": 0
}