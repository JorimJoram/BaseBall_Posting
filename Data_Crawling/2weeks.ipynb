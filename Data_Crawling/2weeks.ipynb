{
 "cells": [
  {
   "cell_type": "markdown",
   "source": [
    "# 10.05 ~ 10.09 과제\n",
    "### 1. 2015 ~ 2022 페런트레이스 결과 도출\n",
    "- SSG wire to wire 우승 분석하기 위해서 반드시 필요함\n",
    "- 역대 다른 우승팀들의 우승과정은 어떠했는지 대조하면서 분석할 예정임.\n",
    "- 2015년으로 잡은 이유: 10구단 창단 후 일정 변화가 잦았기도 했고, 무엇보다 경기수가 10개 구단을 기점으로 144경기로 고정하여 진행되었기 때문에 2015년으로 잡기로 함\n",
    "### 2. 2022 시즌 SSG 선수들의 일자별 경기 결과 도출하기\n",
    "- 구체적일수록 좋음\n",
    "- 구체적인 것의 기준이, 타석, 결과, 당시 상황(1사 1,2루였다 혹은 2사 만루였다 이런 식으로)을 설명할 수 있는 데이터를 얻어낼 것"
   ],
   "metadata": {
    "collapsed": false,
    "pycharm": {
     "name": "#%% md\n"
    }
   }
  },
  {
   "cell_type": "markdown",
   "source": [
    "## 1. 2015 ~ 2022 페런트레이스 결과 도출\n",
    "- 고민거리: 개막일정을 리스트로 적어놓는게 맞나? 아니면 개막전이라는 걸 확인시킬 다른 방법이 없는건가?"
   ],
   "metadata": {
    "collapsed": false,
    "pycharm": {
     "name": "#%% md\n"
    }
   }
  },
  {
   "cell_type": "code",
   "execution_count": 1,
   "outputs": [],
   "source": [
    "import pandas as pd\n",
    "import matplotlib.pyplot as plt\n",
    "from IPython.core.display_functions import display"
   ],
   "metadata": {
    "collapsed": false,
    "pycharm": {
     "name": "#%%\n"
    }
   }
  },
  {
   "cell_type": "code",
   "execution_count": 4,
   "outputs": [],
   "source": [
    "year_list = [int(year) for year in range(2015, 2023)]\n",
    "month_list = [int(month) for month in range(3, 12)]\n",
    "open_race = {\n",
    "    2015:(3, 28),\n",
    "    2016:(4,1),\n",
    "    2017:(3,31),\n",
    "    2018:(3,24),\n",
    "    2019:(3,23),\n",
    "    2020:(5,5),\n",
    "    2021:(4,3),\n",
    "    2022:(4,2)\n",
    "}"
   ],
   "metadata": {
    "collapsed": false,
    "pycharm": {
     "name": "#%%\n"
    }
   }
  },
  {
   "cell_type": "code",
   "execution_count": 15,
   "outputs": [
    {
     "data": {
      "text/plain": "          0      1             2   3                         4   5   6\n0  3.28 (토)  14:00   한화  4:5  넥센 NaN               MBC SPORTS+  목동 NaN\n1  3.28 (토)  14:00  kt  9:12  롯데 NaN  KBS N SPORTS, SKY SPORTS  사직 NaN\n2  3.28 (토)  14:00  LG  1:3  KIA NaN                   KBS 2TV  광주 NaN\n3  3.28 (토)  14:00   NC  4:9  두산 NaN        SBS SPORTS, SPOTV+  잠실 NaN\n4  3.28 (토)  14:00   SK  1:6  삼성 NaN                    MBC TV  대구 NaN",
      "text/html": "<div>\n<style scoped>\n    .dataframe tbody tr th:only-of-type {\n        vertical-align: middle;\n    }\n\n    .dataframe tbody tr th {\n        vertical-align: top;\n    }\n\n    .dataframe thead th {\n        text-align: right;\n    }\n</style>\n<table border=\"1\" class=\"dataframe\">\n  <thead>\n    <tr style=\"text-align: right;\">\n      <th></th>\n      <th>0</th>\n      <th>1</th>\n      <th>2</th>\n      <th>3</th>\n      <th>4</th>\n      <th>5</th>\n      <th>6</th>\n    </tr>\n  </thead>\n  <tbody>\n    <tr>\n      <th>0</th>\n      <td>3.28 (토)</td>\n      <td>14:00</td>\n      <td>한화  4:5  넥센</td>\n      <td>NaN</td>\n      <td>MBC SPORTS+</td>\n      <td>목동</td>\n      <td>NaN</td>\n    </tr>\n    <tr>\n      <th>1</th>\n      <td>3.28 (토)</td>\n      <td>14:00</td>\n      <td>kt  9:12  롯데</td>\n      <td>NaN</td>\n      <td>KBS N SPORTS, SKY SPORTS</td>\n      <td>사직</td>\n      <td>NaN</td>\n    </tr>\n    <tr>\n      <th>2</th>\n      <td>3.28 (토)</td>\n      <td>14:00</td>\n      <td>LG  1:3  KIA</td>\n      <td>NaN</td>\n      <td>KBS 2TV</td>\n      <td>광주</td>\n      <td>NaN</td>\n    </tr>\n    <tr>\n      <th>3</th>\n      <td>3.28 (토)</td>\n      <td>14:00</td>\n      <td>NC  4:9  두산</td>\n      <td>NaN</td>\n      <td>SBS SPORTS, SPOTV+</td>\n      <td>잠실</td>\n      <td>NaN</td>\n    </tr>\n    <tr>\n      <th>4</th>\n      <td>3.28 (토)</td>\n      <td>14:00</td>\n      <td>SK  1:6  삼성</td>\n      <td>NaN</td>\n      <td>MBC TV</td>\n      <td>대구</td>\n      <td>NaN</td>\n    </tr>\n  </tbody>\n</table>\n</div>"
     },
     "metadata": {},
     "output_type": "display_data"
    },
    {
     "data": {
      "text/plain": "          0      1             2   3             4   5   6\n0  3.29 (일)  14:00   한화  5:3  넥센 NaN    SKY SPORTS  목동 NaN\n1  3.29 (일)  14:00   kt  4:5  롯데 NaN    SBS SPORTS  사직 NaN\n2  3.29 (일)  14:00  LG  6:7  KIA NaN   MBC SPORTS+  광주 NaN\n3  3.29 (일)  14:00   NC  1:4  두산 NaN        SPOTV+  잠실 NaN\n4  3.29 (일)  14:00   SK  7:3  삼성 NaN  KBS N SPORTS  대구 NaN",
      "text/html": "<div>\n<style scoped>\n    .dataframe tbody tr th:only-of-type {\n        vertical-align: middle;\n    }\n\n    .dataframe tbody tr th {\n        vertical-align: top;\n    }\n\n    .dataframe thead th {\n        text-align: right;\n    }\n</style>\n<table border=\"1\" class=\"dataframe\">\n  <thead>\n    <tr style=\"text-align: right;\">\n      <th></th>\n      <th>0</th>\n      <th>1</th>\n      <th>2</th>\n      <th>3</th>\n      <th>4</th>\n      <th>5</th>\n      <th>6</th>\n    </tr>\n  </thead>\n  <tbody>\n    <tr>\n      <th>0</th>\n      <td>3.29 (일)</td>\n      <td>14:00</td>\n      <td>한화  5:3  넥센</td>\n      <td>NaN</td>\n      <td>SKY SPORTS</td>\n      <td>목동</td>\n      <td>NaN</td>\n    </tr>\n    <tr>\n      <th>1</th>\n      <td>3.29 (일)</td>\n      <td>14:00</td>\n      <td>kt  4:5  롯데</td>\n      <td>NaN</td>\n      <td>SBS SPORTS</td>\n      <td>사직</td>\n      <td>NaN</td>\n    </tr>\n    <tr>\n      <th>2</th>\n      <td>3.29 (일)</td>\n      <td>14:00</td>\n      <td>LG  6:7  KIA</td>\n      <td>NaN</td>\n      <td>MBC SPORTS+</td>\n      <td>광주</td>\n      <td>NaN</td>\n    </tr>\n    <tr>\n      <th>3</th>\n      <td>3.29 (일)</td>\n      <td>14:00</td>\n      <td>NC  1:4  두산</td>\n      <td>NaN</td>\n      <td>SPOTV+</td>\n      <td>잠실</td>\n      <td>NaN</td>\n    </tr>\n    <tr>\n      <th>4</th>\n      <td>3.29 (일)</td>\n      <td>14:00</td>\n      <td>SK  7:3  삼성</td>\n      <td>NaN</td>\n      <td>KBS N SPORTS</td>\n      <td>대구</td>\n      <td>NaN</td>\n    </tr>\n  </tbody>\n</table>\n</div>"
     },
     "metadata": {},
     "output_type": "display_data"
    },
    {
     "data": {
      "text/plain": "          0  1               2\n0  3.30 (월)  -  프로야구 경기가 없습니다.",
      "text/html": "<div>\n<style scoped>\n    .dataframe tbody tr th:only-of-type {\n        vertical-align: middle;\n    }\n\n    .dataframe tbody tr th {\n        vertical-align: top;\n    }\n\n    .dataframe thead th {\n        text-align: right;\n    }\n</style>\n<table border=\"1\" class=\"dataframe\">\n  <thead>\n    <tr style=\"text-align: right;\">\n      <th></th>\n      <th>0</th>\n      <th>1</th>\n      <th>2</th>\n    </tr>\n  </thead>\n  <tbody>\n    <tr>\n      <th>0</th>\n      <td>3.30 (월)</td>\n      <td>-</td>\n      <td>프로야구 경기가 없습니다.</td>\n    </tr>\n  </tbody>\n</table>\n</div>"
     },
     "metadata": {},
     "output_type": "display_data"
    },
    {
     "data": {
      "text/plain": "          0      1                 2                        3  \\\n0  3.31 (화)  18:30  KIA  VS SK  경기취소  해당 경기는 현지 사정으로 취소되었습니다.   \n1  3.31 (화)  18:30       롯데  7:1  LG                      NaN   \n2  3.31 (화)  18:30   두산  VS 한화  경기취소  해당 경기는 현지 사정으로 취소되었습니다.   \n3  3.31 (화)  18:30       삼성  8:6  kt                      NaN   \n4  3.31 (화)  18:30   넥센  VS NC  경기취소  해당 경기는 현지 사정으로 취소되었습니다.   \n\n                         4   5   6  \n0  해당 경기는 현지 사정으로 취소되었습니다.  문학 NaN  \n1              MBC SPORTS+  잠실 NaN  \n2  해당 경기는 현지 사정으로 취소되었습니다.  대전 NaN  \n3               SKY SPORTS  수원 NaN  \n4  해당 경기는 현지 사정으로 취소되었습니다.  마산 NaN  ",
      "text/html": "<div>\n<style scoped>\n    .dataframe tbody tr th:only-of-type {\n        vertical-align: middle;\n    }\n\n    .dataframe tbody tr th {\n        vertical-align: top;\n    }\n\n    .dataframe thead th {\n        text-align: right;\n    }\n</style>\n<table border=\"1\" class=\"dataframe\">\n  <thead>\n    <tr style=\"text-align: right;\">\n      <th></th>\n      <th>0</th>\n      <th>1</th>\n      <th>2</th>\n      <th>3</th>\n      <th>4</th>\n      <th>5</th>\n      <th>6</th>\n    </tr>\n  </thead>\n  <tbody>\n    <tr>\n      <th>0</th>\n      <td>3.31 (화)</td>\n      <td>18:30</td>\n      <td>KIA  VS SK  경기취소</td>\n      <td>해당 경기는 현지 사정으로 취소되었습니다.</td>\n      <td>해당 경기는 현지 사정으로 취소되었습니다.</td>\n      <td>문학</td>\n      <td>NaN</td>\n    </tr>\n    <tr>\n      <th>1</th>\n      <td>3.31 (화)</td>\n      <td>18:30</td>\n      <td>롯데  7:1  LG</td>\n      <td>NaN</td>\n      <td>MBC SPORTS+</td>\n      <td>잠실</td>\n      <td>NaN</td>\n    </tr>\n    <tr>\n      <th>2</th>\n      <td>3.31 (화)</td>\n      <td>18:30</td>\n      <td>두산  VS 한화  경기취소</td>\n      <td>해당 경기는 현지 사정으로 취소되었습니다.</td>\n      <td>해당 경기는 현지 사정으로 취소되었습니다.</td>\n      <td>대전</td>\n      <td>NaN</td>\n    </tr>\n    <tr>\n      <th>3</th>\n      <td>3.31 (화)</td>\n      <td>18:30</td>\n      <td>삼성  8:6  kt</td>\n      <td>NaN</td>\n      <td>SKY SPORTS</td>\n      <td>수원</td>\n      <td>NaN</td>\n    </tr>\n    <tr>\n      <th>4</th>\n      <td>3.31 (화)</td>\n      <td>18:30</td>\n      <td>넥센  VS NC  경기취소</td>\n      <td>해당 경기는 현지 사정으로 취소되었습니다.</td>\n      <td>해당 경기는 현지 사정으로 취소되었습니다.</td>\n      <td>마산</td>\n      <td>NaN</td>\n    </tr>\n  </tbody>\n</table>\n</div>"
     },
     "metadata": {},
     "output_type": "display_data"
    }
   ],
   "source": [
    "df = pd.read_html(\"https://sports.news.naver.com/kbaseball/schedule/index?month=03&year=2015\")\n",
    "for i in range(1, len(df)-1):\n",
    "    if i >= open_race[2015][1]: #i가 일자로 남게 됨. 그래서 이걸 기준으로 구분하면 충분히 가능할 것으로 보임\n",
    "        display(df[i])"
   ],
   "metadata": {
    "collapsed": false,
    "pycharm": {
     "name": "#%%\n"
    }
   }
  },
  {
   "cell_type": "code",
   "execution_count": null,
   "outputs": [],
   "source": [],
   "metadata": {
    "collapsed": false,
    "pycharm": {
     "name": "#%%\n"
    }
   }
  }
 ],
 "metadata": {
  "kernelspec": {
   "display_name": "Python 3",
   "language": "python",
   "name": "python3"
  },
  "language_info": {
   "codemirror_mode": {
    "name": "ipython",
    "version": 2
   },
   "file_extension": ".py",
   "mimetype": "text/x-python",
   "name": "python",
   "nbconvert_exporter": "python",
   "pygments_lexer": "ipython2",
   "version": "2.7.6"
  }
 },
 "nbformat": 4,
 "nbformat_minor": 0
}