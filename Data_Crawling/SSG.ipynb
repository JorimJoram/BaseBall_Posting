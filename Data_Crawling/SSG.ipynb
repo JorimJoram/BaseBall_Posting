{
 "cells": [
  {
   "cell_type": "code",
   "execution_count": 1,
   "outputs": [],
   "source": [
    "import natsort as natsort\n",
    "import pandas as pd\n",
    "import os\n",
    "import natsort\n",
    "from datetime import date, datetime\n",
    "import matplotlib.pyplot as plt\n",
    "from matplotlib import rc\n",
    "\n",
    "rc('font', family='AppleGothic')\n",
    "plt.rcParams['axes.unicode_minus']= False\n",
    "from IPython.core.display_functions import display"
   ],
   "metadata": {
    "collapsed": false,
    "pycharm": {
     "name": "#%%\n"
    }
   }
  },
  {
   "cell_type": "markdown",
   "source": [
    "# Schedule.ipynb를 작성하고 나서\n",
    "### 의외로 득실차는 LG가 더 좋았다."
   ],
   "metadata": {
    "collapsed": false,
    "pycharm": {
     "name": "#%% md\n"
    }
   }
  },
  {
   "cell_type": "code",
   "execution_count": 6,
   "outputs": [
    {
     "data": {
      "text/plain": "    경기수 승리 무승부 패배 득점 실점\nLG    0  0   0  0  0  0\nSSG   0  0   0  0  0  0",
      "text/html": "<div>\n<style scoped>\n    .dataframe tbody tr th:only-of-type {\n        vertical-align: middle;\n    }\n\n    .dataframe tbody tr th {\n        vertical-align: top;\n    }\n\n    .dataframe thead th {\n        text-align: right;\n    }\n</style>\n<table border=\"1\" class=\"dataframe\">\n  <thead>\n    <tr style=\"text-align: right;\">\n      <th></th>\n      <th>경기수</th>\n      <th>승리</th>\n      <th>무승부</th>\n      <th>패배</th>\n      <th>득점</th>\n      <th>실점</th>\n    </tr>\n  </thead>\n  <tbody>\n    <tr>\n      <th>LG</th>\n      <td>0</td>\n      <td>0</td>\n      <td>0</td>\n      <td>0</td>\n      <td>0</td>\n      <td>0</td>\n    </tr>\n    <tr>\n      <th>SSG</th>\n      <td>0</td>\n      <td>0</td>\n      <td>0</td>\n      <td>0</td>\n      <td>0</td>\n      <td>0</td>\n    </tr>\n  </tbody>\n</table>\n</div>"
     },
     "execution_count": 6,
     "metadata": {},
     "output_type": "execute_result"
    }
   ],
   "source": [
    "team_list = [\"LG\", \"SSG\"]\n",
    "color_list=[\"#DB1916\", \"#fff000\"]\n",
    "\n",
    "init_data = [0,0,0,0,0,0]\n",
    "KBO_team = pd.DataFrame(columns=[\"경기수\", \"승리\", \"무승부\", \"패배\", \"득점\", \"실점\"], index=team_list)\n",
    "for team in team_list:\n",
    "    KBO_team.loc[team] = init_data\n",
    "\n",
    "KBO_team"
   ],
   "metadata": {
    "collapsed": false,
    "pycharm": {
     "name": "#%%\n"
    }
   }
  },
  {
   "cell_type": "code",
   "execution_count": 4,
   "outputs": [],
   "source": [
    "rank_list = os.listdir(\"./date_rank\")\n",
    "sorted_rank = natsort.natsorted(rank_list)"
   ],
   "metadata": {
    "collapsed": false,
    "pycharm": {
     "name": "#%%\n"
    }
   }
  },
  {
   "cell_type": "code",
   "execution_count": 16,
   "outputs": [],
   "source": [
    "df_list = []\n",
    "for team, color in zip(team_list, color_list):\n",
    "    df_result = pd.DataFrame(columns=[\"경기수\", \"승리\", \"무승부\", \"패배\",\"득점\",\"실점\",\"승점\", \"게임차\", \"순위\", \"일자\", \"득실차\"])\n",
    "\n",
    "    for file in sorted_rank:\n",
    "        if file == \".DS_Store\":\n",
    "            continue\n",
    "        date = datetime.strptime(\"2022.\"+file.replace('.csv', ''), '%Y.%m.%d')\n",
    "        rank_df = pd.read_csv('./date_rank/'+file, index_col=0)\n",
    "        rank_df[\"일자\"] = date\n",
    "        rank_df[\"득실차\"] = rank_df[\"득점\"] - rank_df[\"실점\"]\n",
    "\n",
    "        rank_list = list(rank_df.loc[team, :])\n",
    "        df_result.loc[len(df_result)] = rank_list\n",
    "    df_list.append(df_result)"
   ],
   "metadata": {
    "collapsed": false,
    "pycharm": {
     "name": "#%%\n"
    }
   }
  },
  {
   "cell_type": "code",
   "execution_count": 28,
   "outputs": [
    {
     "data": {
      "text/plain": "<Figure size 3000x500 with 0 Axes>"
     },
     "execution_count": 28,
     "metadata": {},
     "output_type": "execute_result"
    },
    {
     "data": {
      "text/plain": "<Figure size 640x480 with 2 Axes>",
      "image/png": "[encoded data removed]"
     },
     "metadata": {},
     "output_type": "display_data"
    },
    {
     "data": {
      "text/plain": "<Figure size 3000x500 with 0 Axes>"
     },
     "metadata": {},
     "output_type": "display_data"
    }
   ],
   "source": [
    "nrow = 2\n",
    "ncol = 1\n",
    "\n",
    "plt.subplot(2,1,1)\n",
    "plt.plot(df_list[0][\"일자\"], df_list[0][\"순위\"], label=team_list[0])\n",
    "plt.plot(df_list[1][\"일자\"], df_list[1][\"순위\"], label=team_list[1])\n",
    "plt.gca().invert_yaxis()\n",
    "plt.legend(loc='best')\n",
    "\n",
    "plt.subplot(2,1,2)\n",
    "plt.bar(df_list[0][\"일자\"], df_list[0][\"득실차\"], label=team_list[0])\n",
    "plt.bar(df_list[1][\"일자\"], df_list[1][\"득실차\"], label=team_list[1])\n",
    "plt.legend(loc='best')\n",
    "\n",
    "plt.figure(figsize=(30,5))"
   ],
   "metadata": {
    "collapsed": false,
    "pycharm": {
     "name": "#%%\n"
    }
   }
  },
  {
   "cell_type": "markdown",
   "source": [
    "- 전반기에는 SSG가 더 적게 실점하고 더 많이 득점을 얻어내는 경향을 보였음\n",
    "- 하지만 올스타전 이후 LG가 더 적게 실점함녀서 더 많은 득점을 얻어내는 경향을 보이기 시작함."
   ],
   "metadata": {
    "collapsed": false,
    "pycharm": {
     "name": "#%% md\n"
    }
   }
  },
  {
   "cell_type": "code",
   "execution_count": null,
   "outputs": [],
   "source": [],
   "metadata": {
    "collapsed": false,
    "pycharm": {
     "name": "#%%\n"
    }
   }
  }
 ],
 "metadata": {
  "kernelspec": {
   "display_name": "Python 3",
   "language": "python",
   "name": "python3"
  },
  "language_info": {
   "codemirror_mode": {
    "name": "ipython",
    "version": 2
   },
   "file_extension": ".py",
   "mimetype": "text/x-python",
   "name": "python",
   "nbconvert_exporter": "python",
   "pygments_lexer": "ipython2",
   "version": "2.7.6"
  }
 },
 "nbformat": 4,
 "nbformat_minor": 0
}